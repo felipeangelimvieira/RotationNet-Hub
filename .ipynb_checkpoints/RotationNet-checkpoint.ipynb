{
 "cells": [
  {
   "cell_type": "markdown",
   "metadata": {
    "toc": true
   },
   "source": [
    "<h1>Table of Contents<span class=\"tocSkip\"></span></h1>\n",
    "<div class=\"toc\"><ul class=\"toc-item\"></ul></div>"
   ]
  },
  {
   "cell_type": "code",
   "execution_count": 2,
   "metadata": {},
   "outputs": [],
   "source": [
    "from model import Model\n",
    "from dataloader import Dataloader\n",
    "from trainer import Trainer\n",
    "import matplotlib.pyplot as plt\n",
    "import tensorflow as tf\n",
    "import numpy as np"
   ]
  },
  {
   "cell_type": "code",
   "execution_count": 3,
   "metadata": {},
   "outputs": [
    {
     "name": "stdout",
     "output_type": "stream",
     "text": [
      "['airplane' 'bathtub' 'bed' 'bench' 'bookshelf' 'bottle' 'bowl' 'car'\n",
      " 'chair' 'cone' 'cup' 'curtain' 'desk' 'door' 'dresser' 'flower_pot'\n",
      " 'glass_box' 'guitar' 'keyboard' 'lamp' 'laptop' 'mantel' 'monitor'\n",
      " 'night_stand' 'person' 'piano' 'plant' 'radio' 'range_hood' 'sink' 'sofa'\n",
      " 'stairs' 'stool' 'table' 'tent' 'toilet' 'tv_stand' 'vase' 'wardrobe'\n",
      " 'xbox']\n",
      "WARNING:tensorflow:From C:\\Users\\Felipe\\Anaconda3\\lib\\site-packages\\tensorflow\\python\\data\\ops\\iterator_ops.py:358: colocate_with (from tensorflow.python.framework.ops) is deprecated and will be removed in a future version.\n",
      "Instructions for updating:\n",
      "Colocations handled automatically by placer.\n"
     ]
    },
    {
     "name": "stderr",
     "output_type": "stream",
     "text": [
      "W0322 22:31:57.029395 12620 deprecation.py:323] From C:\\Users\\Felipe\\Anaconda3\\lib\\site-packages\\tensorflow\\python\\data\\ops\\iterator_ops.py:358: colocate_with (from tensorflow.python.framework.ops) is deprecated and will be removed in a future version.\n",
      "Instructions for updating:\n",
      "Colocations handled automatically by placer.\n"
     ]
    },
    {
     "name": "stdout",
     "output_type": "stream",
     "text": [
      "224 224 AAAA\n",
      "Tensor(\"IteratorGetNext:0\", shape=(?, ?, 224, 224, ?), dtype=float32)\n",
      "Tensor(\"IteratorGetNext:1\", shape=(?, ?), dtype=int64)\n",
      "INFO:tensorflow:Saver not created because there are no variables in the graph to restore\n"
     ]
    },
    {
     "name": "stderr",
     "output_type": "stream",
     "text": [
      "I0322 22:32:02.863748 12620 saver.py:1483] Saver not created because there are no variables in the graph to restore\n"
     ]
    },
    {
     "name": "stdout",
     "output_type": "stream",
     "text": [
      "WARNING:tensorflow:From c:\\Projetos\\rotationnet\\model.py:67: dense (from tensorflow.python.layers.core) is deprecated and will be removed in a future version.\n",
      "Instructions for updating:\n",
      "Use keras.layers.dense instead.\n"
     ]
    },
    {
     "name": "stderr",
     "output_type": "stream",
     "text": [
      "W0322 22:32:03.028275 12620 deprecation.py:323] From c:\\Projetos\\rotationnet\\model.py:67: dense (from tensorflow.python.layers.core) is deprecated and will be removed in a future version.\n",
      "Instructions for updating:\n",
      "Use keras.layers.dense instead.\n"
     ]
    },
    {
     "name": "stdout",
     "output_type": "stream",
     "text": [
      "Tensor(\"Log:0\", shape=(3, 20, 20, 41), dtype=float32)\n"
     ]
    },
    {
     "ename": "UnboundLocalError",
     "evalue": "local variable 'discount_iview' referenced before assignment",
     "output_type": "error",
     "traceback": [
      "\u001b[1;31m---------------------------------------------------------------------------\u001b[0m",
      "\u001b[1;31mUnboundLocalError\u001b[0m                         Traceback (most recent call last)",
      "\u001b[1;32m<ipython-input-3-0f901698c241>\u001b[0m in \u001b[0;36m<module>\u001b[1;34m\u001b[0m\n\u001b[0;32m     17\u001b[0m \u001b[0mdataloader\u001b[0m \u001b[1;33m=\u001b[0m \u001b[0mDataloader\u001b[0m\u001b[1;33m(\u001b[0m\u001b[0msess\u001b[0m\u001b[1;33m,\u001b[0m \u001b[0mconfig\u001b[0m\u001b[1;33m,\u001b[0m \u001b[0mprefetch_buffer_size\u001b[0m \u001b[1;33m=\u001b[0m \u001b[1;36m20\u001b[0m\u001b[1;33m)\u001b[0m\u001b[1;33m\u001b[0m\u001b[1;33m\u001b[0m\u001b[0m\n\u001b[0;32m     18\u001b[0m \u001b[0mmodel\u001b[0m \u001b[1;33m=\u001b[0m \u001b[0mModel\u001b[0m\u001b[1;33m(\u001b[0m\u001b[0msess\u001b[0m\u001b[1;33m,\u001b[0m \u001b[0mdataloader\u001b[0m\u001b[1;33m,\u001b[0m \u001b[0mconfig\u001b[0m\u001b[1;33m)\u001b[0m\u001b[1;33m\u001b[0m\u001b[1;33m\u001b[0m\u001b[0m\n\u001b[1;32m---> 19\u001b[1;33m \u001b[0mmodel\u001b[0m\u001b[1;33m.\u001b[0m\u001b[0mbuild_model\u001b[0m\u001b[1;33m(\u001b[0m\u001b[1;33m)\u001b[0m\u001b[1;33m\u001b[0m\u001b[1;33m\u001b[0m\u001b[0m\n\u001b[0m\u001b[0;32m     20\u001b[0m \u001b[0mtrainer\u001b[0m \u001b[1;33m=\u001b[0m \u001b[0mTrainer\u001b[0m\u001b[1;33m(\u001b[0m\u001b[0msess\u001b[0m\u001b[1;33m,\u001b[0m\u001b[0mmodel\u001b[0m\u001b[1;33m,\u001b[0m\u001b[0mdataloader\u001b[0m\u001b[1;33m,\u001b[0m\u001b[0mconfig\u001b[0m\u001b[1;33m)\u001b[0m\u001b[1;33m\u001b[0m\u001b[1;33m\u001b[0m\u001b[0m\n\u001b[0;32m     21\u001b[0m \u001b[1;33m\u001b[0m\u001b[0m\n",
      "\u001b[1;32mc:\\Projetos\\rotationnet\\model.py\u001b[0m in \u001b[0;36mbuild_model\u001b[1;34m(self)\u001b[0m\n\u001b[0;32m    114\u001b[0m                 \u001b[0mself\u001b[0m\u001b[1;33m.\u001b[0m\u001b[0mloss1\u001b[0m \u001b[1;33m=\u001b[0m \u001b[1;33m-\u001b[0m\u001b[0mtf\u001b[0m\u001b[1;33m.\u001b[0m\u001b[0mreduce_sum\u001b[0m\u001b[1;33m(\u001b[0m\u001b[0mtf\u001b[0m\u001b[1;33m.\u001b[0m\u001b[0mgather_nd\u001b[0m\u001b[1;33m(\u001b[0m\u001b[0mself\u001b[0m\u001b[1;33m.\u001b[0m\u001b[0mlog_p\u001b[0m\u001b[1;33m,\u001b[0m\u001b[0mgather_candidate_log_prob\u001b[0m\u001b[1;33m)\u001b[0m\u001b[1;33m)\u001b[0m\u001b[1;33m\u001b[0m\u001b[1;33m\u001b[0m\u001b[0m\n\u001b[0;32m    115\u001b[0m                 \u001b[0mself\u001b[0m\u001b[1;33m.\u001b[0m\u001b[0mloss2\u001b[0m \u001b[1;33m=\u001b[0m \u001b[0mself\u001b[0m\u001b[1;33m.\u001b[0m\u001b[0mloss1\u001b[0m \u001b[1;33m-\u001b[0m \u001b[0mself\u001b[0m\u001b[1;33m.\u001b[0m\u001b[0mlog_p\u001b[0m\u001b[1;33m[\u001b[0m\u001b[1;33m:\u001b[0m\u001b[1;33m,\u001b[0m\u001b[1;33m:\u001b[0m\u001b[1;33m,\u001b[0m\u001b[1;33m:\u001b[0m\u001b[1;33m,\u001b[0m\u001b[1;33m-\u001b[0m\u001b[1;36m1\u001b[0m\u001b[1;33m]\u001b[0m\u001b[1;33m\u001b[0m\u001b[1;33m\u001b[0m\u001b[0m\n\u001b[1;32m--> 116\u001b[1;33m                 \u001b[0mself\u001b[0m\u001b[1;33m.\u001b[0m\u001b[0mloss3\u001b[0m \u001b[1;33m=\u001b[0m \u001b[0mself\u001b[0m\u001b[1;33m.\u001b[0m\u001b[0mloss2\u001b[0m \u001b[1;33m+\u001b[0m \u001b[0mtf\u001b[0m\u001b[1;33m.\u001b[0m\u001b[0mreduce_sum\u001b[0m\u001b[1;33m(\u001b[0m\u001b[0mtf\u001b[0m\u001b[1;33m.\u001b[0m\u001b[0mgather_nd\u001b[0m\u001b[1;33m(\u001b[0m\u001b[0mself\u001b[0m\u001b[1;33m.\u001b[0m\u001b[0mlog_p\u001b[0m\u001b[1;33m,\u001b[0m\u001b[0mdiscount_iview\u001b[0m\u001b[1;33m)\u001b[0m\u001b[1;33m)\u001b[0m\u001b[1;33m\u001b[0m\u001b[1;33m\u001b[0m\u001b[0m\n\u001b[0m\u001b[0;32m    117\u001b[0m                 \u001b[1;31m#Sum the loss of i_view\u001b[0m\u001b[1;33m\u001b[0m\u001b[1;33m\u001b[0m\u001b[1;33m\u001b[0m\u001b[0m\n\u001b[0;32m    118\u001b[0m                 \u001b[0mself\u001b[0m\u001b[1;33m.\u001b[0m\u001b[0mloss\u001b[0m \u001b[1;33m-=\u001b[0m \u001b[0mself\u001b[0m\u001b[1;33m.\u001b[0m\u001b[0mlog_p\u001b[0m\u001b[1;33m[\u001b[0m\u001b[1;33m:\u001b[0m\u001b[1;33m,\u001b[0m\u001b[1;33m:\u001b[0m\u001b[1;33m,\u001b[0m\u001b[1;33m:\u001b[0m\u001b[1;33m,\u001b[0m\u001b[1;33m-\u001b[0m\u001b[1;36m1\u001b[0m\u001b[1;33m]\u001b[0m\u001b[1;33m\u001b[0m\u001b[1;33m\u001b[0m\u001b[0m\n",
      "\u001b[1;31mUnboundLocalError\u001b[0m: local variable 'discount_iview' referenced before assignment"
     ]
    }
   ],
   "source": [
    "config  = {\"module_path\": \"https://tfhub.dev/google/imagenet/mobilenet_v2_100_224/feature_vector/2\",\n",
    "           \"train_images_path\": \"modelnet40v2png_ori4/*/train/*\",\n",
    "           \"test_images_path\": \"modelnet40v2png_ori4/*/test/*\",\n",
    "           \"batch_size\": 3,\n",
    "           \"n_views\": 20,\n",
    "           \"epochs\": 1,\n",
    "           \"v_cands\": \"vcand_case2.npy\",\n",
    "           \"weight_decay\": 1e-4,\n",
    "           \"momentum\": 0.9,\n",
    "           \"decay_rate\": 0.1,\n",
    "           \"decay_steps\":  400e4,\n",
    "           \"learning_rate\": 0.0005 }\n",
    "\n",
    "config_proto = tf.ConfigProto()\n",
    "config_proto.gpu_options.allow_growth = True\n",
    "sess = tf.InteractiveSession(config=config_proto)\n",
    "dataloader = Dataloader(sess, config, prefetch_buffer_size = 20)\n",
    "model = Model(sess, dataloader, config)\n",
    "model.build_model()\n",
    "trainer = Trainer(sess,model,dataloader,config)\n",
    "\n",
    "#trainer.train()"
   ]
  },
  {
   "cell_type": "code",
   "execution_count": 3,
   "metadata": {},
   "outputs": [
    {
     "name": "stdout",
     "output_type": "stream",
     "text": [
      "(3, 20, 224, 224, 3) (3, 20)\n"
     ]
    }
   ],
   "source": [
    "print(next_element[0].shape,next_element[1].shape)"
   ]
  },
  {
   "cell_type": "code",
   "execution_count": 4,
   "metadata": {},
   "outputs": [],
   "source": [
    "obj_images, labels = next_element"
   ]
  },
  {
   "cell_type": "code",
   "execution_count": 9,
   "metadata": {},
   "outputs": [
    {
     "data": {
      "text/plain": [
       "<matplotlib.image.AxesImage at 0x20022a12080>"
      ]
     },
     "execution_count": 9,
     "metadata": {},
     "output_type": "execute_result"
    },
    {
     "data": {
      "image/png": "[encoded data removed]",
      "text/plain": [
       "<Figure size 432x288 with 1 Axes>"
      ]
     },
     "metadata": {
      "needs_background": "light"
     },
     "output_type": "display_data"
    }
   ],
   "source": [
    "import matplotlib.pyplot as plt\n",
    "%matplotlib inline\n",
    "\n",
    "plt.imshow((obj_images[0,2] + 1)/2)"
   ]
  },
  {
   "cell_type": "code",
   "execution_count": 22,
   "metadata": {},
   "outputs": [
    {
     "data": {
      "text/plain": [
       "array([[0, 0, 0, 0, 0, 0, 0, 0, 0, 0, 0, 0, 0, 0, 0, 0, 0, 0, 0, 0],\n",
       "       [0, 0, 0, 0, 0, 0, 0, 0, 0, 0, 0, 0, 0, 0, 0, 0, 0, 0, 0, 0],\n",
       "       [0, 0, 0, 0, 0, 0, 0, 0, 0, 0, 0, 0, 0, 0, 0, 0, 0, 0, 0, 0]],\n",
       "      dtype=int64)"
      ]
     },
     "execution_count": 22,
     "metadata": {},
     "output_type": "execute_result"
    }
   ],
   "source": []
  },
  {
   "cell_type": "code",
   "execution_count": 5,
   "metadata": {},
   "outputs": [],
   "source": [
    "next_element = sess.run(dataloader.next_element, feed_dict = {dataloader.handle : dataloader.training_handle})"
   ]
  },
  {
   "cell_type": "code",
   "execution_count": 6,
   "metadata": {},
   "outputs": [],
   "source": [
    "obj_images, labels = next_element"
   ]
  },
  {
   "cell_type": "code",
   "execution_count": 7,
   "metadata": {},
   "outputs": [
    {
     "data": {
      "text/plain": [
       "<matplotlib.image.AxesImage at 0x206125fd240>"
      ]
     },
     "execution_count": 7,
     "metadata": {},
     "output_type": "execute_result"
    },
    {
     "data": {
      "image/png": "[encoded data removed]",
      "text/plain": [
       "<Figure size 432x288 with 1 Axes>"
      ]
     },
     "metadata": {
      "needs_background": "light"
     },
     "output_type": "display_data"
    }
   ],
   "source": [
    "import matplotlib.pyplot as plt\n",
    "%matplotlib inline\n",
    "\n",
    "plt.imshow((obj_images[0,2] + 1)/2)"
   ]
  },
  {
   "cell_type": "markdown",
   "metadata": {},
   "source": [
    "[model.d|"
   ]
  },
  {
   "cell_type": "code",
   "execution_count": 12,
   "metadata": {},
   "outputs": [],
   "source": [
    "sess.run(dataloader.training_initializer)"
   ]
  },
  {
   "cell_type": "code",
   "execution_count": 13,
   "metadata": {},
   "outputs": [],
   "source": [
    "for i in range(1):\n",
    "    _,input, hidden_layer, logits, probs, log_p, scores, loss, predictions = sess.run([model.train_step,model.input,model.hidden_layer, model.logits,model.probs,model.log_p, model.scores, model.loss, model.predictions], feed_dict = { dataloader.handle : dataloader.training_handle})"
   ]
  },
  {
   "cell_type": "code",
   "execution_count": 14,
   "metadata": {},
   "outputs": [
    {
     "data": {
      "text/plain": [
       "array([[[243.4741 , 244.45596, 245.69383, ..., 245.46371, 243.59348,\n",
       "         244.74185],\n",
       "        [243.51698, 243.94225, 243.91777, ..., 244.22704, 243.10083,\n",
       "         245.01999],\n",
       "        [243.42526, 244.10077, 243.73772, ..., 244.30142, 243.02971,\n",
       "         245.59949],\n",
       "        ...,\n",
       "        [243.36736, 243.5483 , 244.17612, ..., 244.03957, 242.9886 ,\n",
       "         244.98595],\n",
       "        [243.57867, 244.40471, 244.22884, ..., 244.38066, 243.375  ,\n",
       "         245.68492],\n",
       "        [243.90343, 244.46371, 245.17853, ..., 245.15372, 243.14565,\n",
       "         245.28749]],\n",
       "\n",
       "       [[244.28592, 243.56075, 244.92413, ..., 244.81677, 244.1252 ,\n",
       "         245.4011 ],\n",
       "        [243.41809, 244.05873, 244.9765 , ..., 244.8276 , 243.99199,\n",
       "         245.65793],\n",
       "        [243.78642, 243.52434, 244.75117, ..., 245.00975, 244.2244 ,\n",
       "         245.5527 ],\n",
       "        ...,\n",
       "        [243.43687, 243.75858, 244.76431, ..., 245.00146, 243.67145,\n",
       "         245.45547],\n",
       "        [244.50403, 243.56458, 245.14104, ..., 244.66011, 243.83015,\n",
       "         245.15854],\n",
       "        [244.56071, 243.13423, 245.07036, ..., 244.0785 , 244.20815,\n",
       "         245.54628]],\n",
       "\n",
       "       [[244.52081, 243.38275, 244.88187, ..., 245.80893, 243.94424,\n",
       "         244.63419],\n",
       "        [243.88504, 243.73138, 245.18259, ..., 245.50244, 243.25012,\n",
       "         245.49422],\n",
       "        [243.00352, 243.68456, 245.43211, ..., 245.05193, 243.66304,\n",
       "         244.62428],\n",
       "        ...,\n",
       "        [243.93765, 243.68086, 244.88855, ..., 245.2725 , 244.39034,\n",
       "         244.0217 ],\n",
       "        [245.07457, 243.67358, 244.36386, ..., 245.38722, 242.93979,\n",
       "         243.83585],\n",
       "        [243.86061, 243.78186, 244.91344, ..., 246.10886, 244.07204,\n",
       "         243.58803]]], dtype=float32)"
      ]
     },
     "execution_count": 14,
     "metadata": {},
     "output_type": "execute_result"
    }
   ],
   "source": [
    "loss"
   ]
  },
  {
   "cell_type": "code",
   "execution_count": 21,
   "metadata": {},
   "outputs": [
    {
     "data": {
      "text/plain": [
       "[<tf.Variable 'module/MobilenetV2/Conv/weights:0' shape=(3, 3, 3, 32) dtype=float32>,\n",
       " <tf.Variable 'module/MobilenetV2/Conv/BatchNorm/gamma:0' shape=(32,) dtype=float32>,\n",
       " <tf.Variable 'module/MobilenetV2/Conv/BatchNorm/beta:0' shape=(32,) dtype=float32>,\n",
       " <tf.Variable 'module/MobilenetV2/expanded_conv/depthwise/depthwise_weights:0' shape=(3, 3, 32, 1) dtype=float32>,\n",
       " <tf.Variable 'module/MobilenetV2/expanded_conv/depthwise/BatchNorm/gamma:0' shape=(32,) dtype=float32>,\n",
       " <tf.Variable 'module/MobilenetV2/expanded_conv/depthwise/BatchNorm/beta:0' shape=(32,) dtype=float32>,\n",
       " <tf.Variable 'module/MobilenetV2/expanded_conv/project/weights:0' shape=(1, 1, 32, 16) dtype=float32>,\n",
       " <tf.Variable 'module/MobilenetV2/expanded_conv/project/BatchNorm/gamma:0' shape=(16,) dtype=float32>,\n",
       " <tf.Variable 'module/MobilenetV2/expanded_conv/project/BatchNorm/beta:0' shape=(16,) dtype=float32>,\n",
       " <tf.Variable 'module/MobilenetV2/expanded_conv_1/expand/weights:0' shape=(1, 1, 16, 96) dtype=float32>,\n",
       " <tf.Variable 'module/MobilenetV2/expanded_conv_1/expand/BatchNorm/gamma:0' shape=(96,) dtype=float32>,\n",
       " <tf.Variable 'module/MobilenetV2/expanded_conv_1/expand/BatchNorm/beta:0' shape=(96,) dtype=float32>,\n",
       " <tf.Variable 'module/MobilenetV2/expanded_conv_1/depthwise/depthwise_weights:0' shape=(3, 3, 96, 1) dtype=float32>,\n",
       " <tf.Variable 'module/MobilenetV2/expanded_conv_1/depthwise/BatchNorm/gamma:0' shape=(96,) dtype=float32>,\n",
       " <tf.Variable 'module/MobilenetV2/expanded_conv_1/depthwise/BatchNorm/beta:0' shape=(96,) dtype=float32>,\n",
       " <tf.Variable 'module/MobilenetV2/expanded_conv_1/project/weights:0' shape=(1, 1, 96, 24) dtype=float32>,\n",
       " <tf.Variable 'module/MobilenetV2/expanded_conv_1/project/BatchNorm/gamma:0' shape=(24,) dtype=float32>,\n",
       " <tf.Variable 'module/MobilenetV2/expanded_conv_1/project/BatchNorm/beta:0' shape=(24,) dtype=float32>,\n",
       " <tf.Variable 'module/MobilenetV2/expanded_conv_2/expand/weights:0' shape=(1, 1, 24, 144) dtype=float32>,\n",
       " <tf.Variable 'module/MobilenetV2/expanded_conv_2/expand/BatchNorm/gamma:0' shape=(144,) dtype=float32>,\n",
       " <tf.Variable 'module/MobilenetV2/expanded_conv_2/expand/BatchNorm/beta:0' shape=(144,) dtype=float32>,\n",
       " <tf.Variable 'module/MobilenetV2/expanded_conv_2/depthwise/depthwise_weights:0' shape=(3, 3, 144, 1) dtype=float32>,\n",
       " <tf.Variable 'module/MobilenetV2/expanded_conv_2/depthwise/BatchNorm/gamma:0' shape=(144,) dtype=float32>,\n",
       " <tf.Variable 'module/MobilenetV2/expanded_conv_2/depthwise/BatchNorm/beta:0' shape=(144,) dtype=float32>,\n",
       " <tf.Variable 'module/MobilenetV2/expanded_conv_2/project/weights:0' shape=(1, 1, 144, 24) dtype=float32>,\n",
       " <tf.Variable 'module/MobilenetV2/expanded_conv_2/project/BatchNorm/gamma:0' shape=(24,) dtype=float32>,\n",
       " <tf.Variable 'module/MobilenetV2/expanded_conv_2/project/BatchNorm/beta:0' shape=(24,) dtype=float32>,\n",
       " <tf.Variable 'module/MobilenetV2/expanded_conv_3/expand/weights:0' shape=(1, 1, 24, 144) dtype=float32>,\n",
       " <tf.Variable 'module/MobilenetV2/expanded_conv_3/expand/BatchNorm/gamma:0' shape=(144,) dtype=float32>,\n",
       " <tf.Variable 'module/MobilenetV2/expanded_conv_3/expand/BatchNorm/beta:0' shape=(144,) dtype=float32>,\n",
       " <tf.Variable 'module/MobilenetV2/expanded_conv_3/depthwise/depthwise_weights:0' shape=(3, 3, 144, 1) dtype=float32>,\n",
       " <tf.Variable 'module/MobilenetV2/expanded_conv_3/depthwise/BatchNorm/gamma:0' shape=(144,) dtype=float32>,\n",
       " <tf.Variable 'module/MobilenetV2/expanded_conv_3/depthwise/BatchNorm/beta:0' shape=(144,) dtype=float32>,\n",
       " <tf.Variable 'module/MobilenetV2/expanded_conv_3/project/weights:0' shape=(1, 1, 144, 32) dtype=float32>,\n",
       " <tf.Variable 'module/MobilenetV2/expanded_conv_3/project/BatchNorm/gamma:0' shape=(32,) dtype=float32>,\n",
       " <tf.Variable 'module/MobilenetV2/expanded_conv_3/project/BatchNorm/beta:0' shape=(32,) dtype=float32>,\n",
       " <tf.Variable 'module/MobilenetV2/expanded_conv_4/expand/weights:0' shape=(1, 1, 32, 192) dtype=float32>,\n",
       " <tf.Variable 'module/MobilenetV2/expanded_conv_4/expand/BatchNorm/gamma:0' shape=(192,) dtype=float32>,\n",
       " <tf.Variable 'module/MobilenetV2/expanded_conv_4/expand/BatchNorm/beta:0' shape=(192,) dtype=float32>,\n",
       " <tf.Variable 'module/MobilenetV2/expanded_conv_4/depthwise/depthwise_weights:0' shape=(3, 3, 192, 1) dtype=float32>,\n",
       " <tf.Variable 'module/MobilenetV2/expanded_conv_4/depthwise/BatchNorm/gamma:0' shape=(192,) dtype=float32>,\n",
       " <tf.Variable 'module/MobilenetV2/expanded_conv_4/depthwise/BatchNorm/beta:0' shape=(192,) dtype=float32>,\n",
       " <tf.Variable 'module/MobilenetV2/expanded_conv_4/project/weights:0' shape=(1, 1, 192, 32) dtype=float32>,\n",
       " <tf.Variable 'module/MobilenetV2/expanded_conv_4/project/BatchNorm/gamma:0' shape=(32,) dtype=float32>,\n",
       " <tf.Variable 'module/MobilenetV2/expanded_conv_4/project/BatchNorm/beta:0' shape=(32,) dtype=float32>,\n",
       " <tf.Variable 'module/MobilenetV2/expanded_conv_5/expand/weights:0' shape=(1, 1, 32, 192) dtype=float32>,\n",
       " <tf.Variable 'module/MobilenetV2/expanded_conv_5/expand/BatchNorm/gamma:0' shape=(192,) dtype=float32>,\n",
       " <tf.Variable 'module/MobilenetV2/expanded_conv_5/expand/BatchNorm/beta:0' shape=(192,) dtype=float32>,\n",
       " <tf.Variable 'module/MobilenetV2/expanded_conv_5/depthwise/depthwise_weights:0' shape=(3, 3, 192, 1) dtype=float32>,\n",
       " <tf.Variable 'module/MobilenetV2/expanded_conv_5/depthwise/BatchNorm/gamma:0' shape=(192,) dtype=float32>,\n",
       " <tf.Variable 'module/MobilenetV2/expanded_conv_5/depthwise/BatchNorm/beta:0' shape=(192,) dtype=float32>,\n",
       " <tf.Variable 'module/MobilenetV2/expanded_conv_5/project/weights:0' shape=(1, 1, 192, 32) dtype=float32>,\n",
       " <tf.Variable 'module/MobilenetV2/expanded_conv_5/project/BatchNorm/gamma:0' shape=(32,) dtype=float32>,\n",
       " <tf.Variable 'module/MobilenetV2/expanded_conv_5/project/BatchNorm/beta:0' shape=(32,) dtype=float32>,\n",
       " <tf.Variable 'module/MobilenetV2/expanded_conv_6/expand/weights:0' shape=(1, 1, 32, 192) dtype=float32>,\n",
       " <tf.Variable 'module/MobilenetV2/expanded_conv_6/expand/BatchNorm/gamma:0' shape=(192,) dtype=float32>,\n",
       " <tf.Variable 'module/MobilenetV2/expanded_conv_6/expand/BatchNorm/beta:0' shape=(192,) dtype=float32>,\n",
       " <tf.Variable 'module/MobilenetV2/expanded_conv_6/depthwise/depthwise_weights:0' shape=(3, 3, 192, 1) dtype=float32>,\n",
       " <tf.Variable 'module/MobilenetV2/expanded_conv_6/depthwise/BatchNorm/gamma:0' shape=(192,) dtype=float32>,\n",
       " <tf.Variable 'module/MobilenetV2/expanded_conv_6/depthwise/BatchNorm/beta:0' shape=(192,) dtype=float32>,\n",
       " <tf.Variable 'module/MobilenetV2/expanded_conv_6/project/weights:0' shape=(1, 1, 192, 64) dtype=float32>,\n",
       " <tf.Variable 'module/MobilenetV2/expanded_conv_6/project/BatchNorm/gamma:0' shape=(64,) dtype=float32>,\n",
       " <tf.Variable 'module/MobilenetV2/expanded_conv_6/project/BatchNorm/beta:0' shape=(64,) dtype=float32>,\n",
       " <tf.Variable 'module/MobilenetV2/expanded_conv_7/expand/weights:0' shape=(1, 1, 64, 384) dtype=float32>,\n",
       " <tf.Variable 'module/MobilenetV2/expanded_conv_7/expand/BatchNorm/gamma:0' shape=(384,) dtype=float32>,\n",
       " <tf.Variable 'module/MobilenetV2/expanded_conv_7/expand/BatchNorm/beta:0' shape=(384,) dtype=float32>,\n",
       " <tf.Variable 'module/MobilenetV2/expanded_conv_7/depthwise/depthwise_weights:0' shape=(3, 3, 384, 1) dtype=float32>,\n",
       " <tf.Variable 'module/MobilenetV2/expanded_conv_7/depthwise/BatchNorm/gamma:0' shape=(384,) dtype=float32>,\n",
       " <tf.Variable 'module/MobilenetV2/expanded_conv_7/depthwise/BatchNorm/beta:0' shape=(384,) dtype=float32>,\n",
       " <tf.Variable 'module/MobilenetV2/expanded_conv_7/project/weights:0' shape=(1, 1, 384, 64) dtype=float32>,\n",
       " <tf.Variable 'module/MobilenetV2/expanded_conv_7/project/BatchNorm/gamma:0' shape=(64,) dtype=float32>,\n",
       " <tf.Variable 'module/MobilenetV2/expanded_conv_7/project/BatchNorm/beta:0' shape=(64,) dtype=float32>,\n",
       " <tf.Variable 'module/MobilenetV2/expanded_conv_8/expand/weights:0' shape=(1, 1, 64, 384) dtype=float32>,\n",
       " <tf.Variable 'module/MobilenetV2/expanded_conv_8/expand/BatchNorm/gamma:0' shape=(384,) dtype=float32>,\n",
       " <tf.Variable 'module/MobilenetV2/expanded_conv_8/expand/BatchNorm/beta:0' shape=(384,) dtype=float32>,\n",
       " <tf.Variable 'module/MobilenetV2/expanded_conv_8/depthwise/depthwise_weights:0' shape=(3, 3, 384, 1) dtype=float32>,\n",
       " <tf.Variable 'module/MobilenetV2/expanded_conv_8/depthwise/BatchNorm/gamma:0' shape=(384,) dtype=float32>,\n",
       " <tf.Variable 'module/MobilenetV2/expanded_conv_8/depthwise/BatchNorm/beta:0' shape=(384,) dtype=float32>,\n",
       " <tf.Variable 'module/MobilenetV2/expanded_conv_8/project/weights:0' shape=(1, 1, 384, 64) dtype=float32>,\n",
       " <tf.Variable 'module/MobilenetV2/expanded_conv_8/project/BatchNorm/gamma:0' shape=(64,) dtype=float32>,\n",
       " <tf.Variable 'module/MobilenetV2/expanded_conv_8/project/BatchNorm/beta:0' shape=(64,) dtype=float32>,\n",
       " <tf.Variable 'module/MobilenetV2/expanded_conv_9/expand/weights:0' shape=(1, 1, 64, 384) dtype=float32>,\n",
       " <tf.Variable 'module/MobilenetV2/expanded_conv_9/expand/BatchNorm/gamma:0' shape=(384,) dtype=float32>,\n",
       " <tf.Variable 'module/MobilenetV2/expanded_conv_9/expand/BatchNorm/beta:0' shape=(384,) dtype=float32>,\n",
       " <tf.Variable 'module/MobilenetV2/expanded_conv_9/depthwise/depthwise_weights:0' shape=(3, 3, 384, 1) dtype=float32>,\n",
       " <tf.Variable 'module/MobilenetV2/expanded_conv_9/depthwise/BatchNorm/gamma:0' shape=(384,) dtype=float32>,\n",
       " <tf.Variable 'module/MobilenetV2/expanded_conv_9/depthwise/BatchNorm/beta:0' shape=(384,) dtype=float32>,\n",
       " <tf.Variable 'module/MobilenetV2/expanded_conv_9/project/weights:0' shape=(1, 1, 384, 64) dtype=float32>,\n",
       " <tf.Variable 'module/MobilenetV2/expanded_conv_9/project/BatchNorm/gamma:0' shape=(64,) dtype=float32>,\n",
       " <tf.Variable 'module/MobilenetV2/expanded_conv_9/project/BatchNorm/beta:0' shape=(64,) dtype=float32>,\n",
       " <tf.Variable 'module/MobilenetV2/expanded_conv_10/expand/weights:0' shape=(1, 1, 64, 384) dtype=float32>,\n",
       " <tf.Variable 'module/MobilenetV2/expanded_conv_10/expand/BatchNorm/gamma:0' shape=(384,) dtype=float32>,\n",
       " <tf.Variable 'module/MobilenetV2/expanded_conv_10/expand/BatchNorm/beta:0' shape=(384,) dtype=float32>,\n",
       " <tf.Variable 'module/MobilenetV2/expanded_conv_10/depthwise/depthwise_weights:0' shape=(3, 3, 384, 1) dtype=float32>,\n",
       " <tf.Variable 'module/MobilenetV2/expanded_conv_10/depthwise/BatchNorm/gamma:0' shape=(384,) dtype=float32>,\n",
       " <tf.Variable 'module/MobilenetV2/expanded_conv_10/depthwise/BatchNorm/beta:0' shape=(384,) dtype=float32>,\n",
       " <tf.Variable 'module/MobilenetV2/expanded_conv_10/project/weights:0' shape=(1, 1, 384, 96) dtype=float32>,\n",
       " <tf.Variable 'module/MobilenetV2/expanded_conv_10/project/BatchNorm/gamma:0' shape=(96,) dtype=float32>,\n",
       " <tf.Variable 'module/MobilenetV2/expanded_conv_10/project/BatchNorm/beta:0' shape=(96,) dtype=float32>,\n",
       " <tf.Variable 'module/MobilenetV2/expanded_conv_11/expand/weights:0' shape=(1, 1, 96, 576) dtype=float32>,\n",
       " <tf.Variable 'module/MobilenetV2/expanded_conv_11/expand/BatchNorm/gamma:0' shape=(576,) dtype=float32>,\n",
       " <tf.Variable 'module/MobilenetV2/expanded_conv_11/expand/BatchNorm/beta:0' shape=(576,) dtype=float32>,\n",
       " <tf.Variable 'module/MobilenetV2/expanded_conv_11/depthwise/depthwise_weights:0' shape=(3, 3, 576, 1) dtype=float32>,\n",
       " <tf.Variable 'module/MobilenetV2/expanded_conv_11/depthwise/BatchNorm/gamma:0' shape=(576,) dtype=float32>,\n",
       " <tf.Variable 'module/MobilenetV2/expanded_conv_11/depthwise/BatchNorm/beta:0' shape=(576,) dtype=float32>,\n",
       " <tf.Variable 'module/MobilenetV2/expanded_conv_11/project/weights:0' shape=(1, 1, 576, 96) dtype=float32>,\n",
       " <tf.Variable 'module/MobilenetV2/expanded_conv_11/project/BatchNorm/gamma:0' shape=(96,) dtype=float32>,\n",
       " <tf.Variable 'module/MobilenetV2/expanded_conv_11/project/BatchNorm/beta:0' shape=(96,) dtype=float32>,\n",
       " <tf.Variable 'module/MobilenetV2/expanded_conv_12/expand/weights:0' shape=(1, 1, 96, 576) dtype=float32>,\n",
       " <tf.Variable 'module/MobilenetV2/expanded_conv_12/expand/BatchNorm/gamma:0' shape=(576,) dtype=float32>,\n",
       " <tf.Variable 'module/MobilenetV2/expanded_conv_12/expand/BatchNorm/beta:0' shape=(576,) dtype=float32>,\n",
       " <tf.Variable 'module/MobilenetV2/expanded_conv_12/depthwise/depthwise_weights:0' shape=(3, 3, 576, 1) dtype=float32>,\n",
       " <tf.Variable 'module/MobilenetV2/expanded_conv_12/depthwise/BatchNorm/gamma:0' shape=(576,) dtype=float32>,\n",
       " <tf.Variable 'module/MobilenetV2/expanded_conv_12/depthwise/BatchNorm/beta:0' shape=(576,) dtype=float32>,\n",
       " <tf.Variable 'module/MobilenetV2/expanded_conv_12/project/weights:0' shape=(1, 1, 576, 96) dtype=float32>,\n",
       " <tf.Variable 'module/MobilenetV2/expanded_conv_12/project/BatchNorm/gamma:0' shape=(96,) dtype=float32>,\n",
       " <tf.Variable 'module/MobilenetV2/expanded_conv_12/project/BatchNorm/beta:0' shape=(96,) dtype=float32>,\n",
       " <tf.Variable 'module/MobilenetV2/expanded_conv_13/expand/weights:0' shape=(1, 1, 96, 576) dtype=float32>,\n",
       " <tf.Variable 'module/MobilenetV2/expanded_conv_13/expand/BatchNorm/gamma:0' shape=(576,) dtype=float32>,\n",
       " <tf.Variable 'module/MobilenetV2/expanded_conv_13/expand/BatchNorm/beta:0' shape=(576,) dtype=float32>,\n",
       " <tf.Variable 'module/MobilenetV2/expanded_conv_13/depthwise/depthwise_weights:0' shape=(3, 3, 576, 1) dtype=float32>,\n",
       " <tf.Variable 'module/MobilenetV2/expanded_conv_13/depthwise/BatchNorm/gamma:0' shape=(576,) dtype=float32>,\n",
       " <tf.Variable 'module/MobilenetV2/expanded_conv_13/depthwise/BatchNorm/beta:0' shape=(576,) dtype=float32>,\n",
       " <tf.Variable 'module/MobilenetV2/expanded_conv_13/project/weights:0' shape=(1, 1, 576, 160) dtype=float32>,\n",
       " <tf.Variable 'module/MobilenetV2/expanded_conv_13/project/BatchNorm/gamma:0' shape=(160,) dtype=float32>,\n",
       " <tf.Variable 'module/MobilenetV2/expanded_conv_13/project/BatchNorm/beta:0' shape=(160,) dtype=float32>,\n",
       " <tf.Variable 'module/MobilenetV2/expanded_conv_14/expand/weights:0' shape=(1, 1, 160, 960) dtype=float32>,\n",
       " <tf.Variable 'module/MobilenetV2/expanded_conv_14/expand/BatchNorm/gamma:0' shape=(960,) dtype=float32>,\n",
       " <tf.Variable 'module/MobilenetV2/expanded_conv_14/expand/BatchNorm/beta:0' shape=(960,) dtype=float32>,\n",
       " <tf.Variable 'module/MobilenetV2/expanded_conv_14/depthwise/depthwise_weights:0' shape=(3, 3, 960, 1) dtype=float32>,\n",
       " <tf.Variable 'module/MobilenetV2/expanded_conv_14/depthwise/BatchNorm/gamma:0' shape=(960,) dtype=float32>,\n",
       " <tf.Variable 'module/MobilenetV2/expanded_conv_14/depthwise/BatchNorm/beta:0' shape=(960,) dtype=float32>,\n",
       " <tf.Variable 'module/MobilenetV2/expanded_conv_14/project/weights:0' shape=(1, 1, 960, 160) dtype=float32>,\n",
       " <tf.Variable 'module/MobilenetV2/expanded_conv_14/project/BatchNorm/gamma:0' shape=(160,) dtype=float32>,\n",
       " <tf.Variable 'module/MobilenetV2/expanded_conv_14/project/BatchNorm/beta:0' shape=(160,) dtype=float32>,\n",
       " <tf.Variable 'module/MobilenetV2/expanded_conv_15/expand/weights:0' shape=(1, 1, 160, 960) dtype=float32>,\n",
       " <tf.Variable 'module/MobilenetV2/expanded_conv_15/expand/BatchNorm/gamma:0' shape=(960,) dtype=float32>,\n",
       " <tf.Variable 'module/MobilenetV2/expanded_conv_15/expand/BatchNorm/beta:0' shape=(960,) dtype=float32>,\n",
       " <tf.Variable 'module/MobilenetV2/expanded_conv_15/depthwise/depthwise_weights:0' shape=(3, 3, 960, 1) dtype=float32>,\n",
       " <tf.Variable 'module/MobilenetV2/expanded_conv_15/depthwise/BatchNorm/gamma:0' shape=(960,) dtype=float32>,\n",
       " <tf.Variable 'module/MobilenetV2/expanded_conv_15/depthwise/BatchNorm/beta:0' shape=(960,) dtype=float32>,\n",
       " <tf.Variable 'module/MobilenetV2/expanded_conv_15/project/weights:0' shape=(1, 1, 960, 160) dtype=float32>,\n",
       " <tf.Variable 'module/MobilenetV2/expanded_conv_15/project/BatchNorm/gamma:0' shape=(160,) dtype=float32>,\n",
       " <tf.Variable 'module/MobilenetV2/expanded_conv_15/project/BatchNorm/beta:0' shape=(160,) dtype=float32>,\n",
       " <tf.Variable 'module/MobilenetV2/expanded_conv_16/expand/weights:0' shape=(1, 1, 160, 960) dtype=float32>,\n",
       " <tf.Variable 'module/MobilenetV2/expanded_conv_16/expand/BatchNorm/gamma:0' shape=(960,) dtype=float32>,\n",
       " <tf.Variable 'module/MobilenetV2/expanded_conv_16/expand/BatchNorm/beta:0' shape=(960,) dtype=float32>,\n",
       " <tf.Variable 'module/MobilenetV2/expanded_conv_16/depthwise/depthwise_weights:0' shape=(3, 3, 960, 1) dtype=float32>,\n",
       " <tf.Variable 'module/MobilenetV2/expanded_conv_16/depthwise/BatchNorm/gamma:0' shape=(960,) dtype=float32>,\n",
       " <tf.Variable 'module/MobilenetV2/expanded_conv_16/depthwise/BatchNorm/beta:0' shape=(960,) dtype=float32>,\n",
       " <tf.Variable 'module/MobilenetV2/expanded_conv_16/project/weights:0' shape=(1, 1, 960, 320) dtype=float32>,\n",
       " <tf.Variable 'module/MobilenetV2/expanded_conv_16/project/BatchNorm/gamma:0' shape=(320,) dtype=float32>,\n",
       " <tf.Variable 'module/MobilenetV2/expanded_conv_16/project/BatchNorm/beta:0' shape=(320,) dtype=float32>,\n",
       " <tf.Variable 'module/MobilenetV2/Conv_1/weights:0' shape=(1, 1, 320, 1280) dtype=float32>,\n",
       " <tf.Variable 'module/MobilenetV2/Conv_1/BatchNorm/gamma:0' shape=(1280,) dtype=float32>,\n",
       " <tf.Variable 'module/MobilenetV2/Conv_1/BatchNorm/beta:0' shape=(1280,) dtype=float32>,\n",
       " <tf.Variable 'dense/kernel:0' shape=(1280, 820) dtype=float32_ref>,\n",
       " <tf.Variable 'dense/bias:0' shape=(820,) dtype=float32_ref>]"
      ]
     },
     "execution_count": 21,
     "metadata": {},
     "output_type": "execute_result"
    }
   ],
   "source": [
    "tf.trainable_variables()"
   ]
  },
  {
   "cell_type": "code",
   "execution_count": null,
   "metadata": {},
   "outputs": [],
   "source": []
  }
 ],
 "metadata": {
  "kernelspec": {
   "display_name": "Python 3",
   "language": "python",
   "name": "python3"
  },
  "language_info": {
   "codemirror_mode": {
    "name": "ipython",
    "version": 3
   },
   "file_extension": ".py",
   "mimetype": "text/x-python",
   "name": "python",
   "nbconvert_exporter": "python",
   "pygments_lexer": "ipython3",
   "version": "3.7.1"
  },
  "toc": {
   "base_numbering": 1,
   "nav_menu": {},
   "number_sections": true,
   "sideBar": true,
   "skip_h1_title": false,
   "title_cell": "Table of Contents",
   "title_sidebar": "Contents",
   "toc_cell": true,
   "toc_position": {},
   "toc_section_display": true,
   "toc_window_display": false
  }
 },
 "nbformat": 4,
 "nbformat_minor": 2
}
