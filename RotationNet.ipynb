{
 "cells": [
  {
   "cell_type": "markdown",
   "metadata": {
    "toc": true
   },
   "source": [
    "<h1>Table of Contents<span class=\"tocSkip\"></span></h1>\n",
    "<div class=\"toc\"><ul class=\"toc-item\"></ul></div>"
   ]
  },
  {
   "cell_type": "code",
   "execution_count": 2,
   "metadata": {},
   "outputs": [
    {
     "name": "stderr",
     "output_type": "stream",
     "text": [
      "WARNING: Logging before flag parsing goes to stderr.\n",
      "W0315 23:57:16.103286  8164 __init__.py:56] Some hub symbols are not available because TensorFlow version is less than 1.14\n"
     ]
    }
   ],
   "source": [
    "import tensorflow as tf\n",
    "import tensorflow_hub as hub\n",
    "from model import Model\n",
    "import numpy as np\n",
    "import os"
   ]
  },
  {
   "cell_type": "code",
   "execution_count": 3,
   "metadata": {},
   "outputs": [
    {
     "data": {
      "text/plain": [
       "'https://tfhub.dev/google/imagenet/resnet_v2_50/feature_vector/1'"
      ]
     },
     "execution_count": 3,
     "metadata": {},
     "output_type": "execute_result"
    }
   ],
   "source": [
    "\"https://tfhub.dev/google/imagenet/resnet_v2_50/feature_vector/1\""
   ]
  },
  {
   "cell_type": "code",
   "execution_count": 1,
   "metadata": {},
   "outputs": [],
   "source": [
    "%reload_ext autoreload\n",
    "%autoreload 2"
   ]
  },
  {
   "cell_type": "code",
   "execution_count": 5,
   "metadata": {},
   "outputs": [
    {
     "name": "stdout",
     "output_type": "stream",
     "text": [
      "INFO:tensorflow:Saver not created because there are no variables in the graph to restore\n"
     ]
    },
    {
     "name": "stderr",
     "output_type": "stream",
     "text": [
      "I0316 00:39:10.535025  8164 saver.py:1483] Saver not created because there are no variables in the graph to restore\n"
     ]
    },
    {
     "name": "stdout",
     "output_type": "stream",
     "text": [
      "Tensor(\"Log_1:0\", shape=(4, 20, 20, 41), dtype=float32)\n"
     ]
    }
   ],
   "source": [
    "model = Model(40,20,\"https://tfhub.dev/google/imagenet/mobilenet_v2_050_96/feature_vector/2\",\"vcand_case2.npy\",80)\n",
    "model.build_model()"
   ]
  },
  {
   "cell_type": "code",
   "execution_count": 6,
   "metadata": {},
   "outputs": [
    {
     "data": {
      "text/plain": [
       "[<tf.Variable 'dense/kernel:0' shape=(1280, 820) dtype=float32_ref>,\n",
       " <tf.Variable 'dense/bias:0' shape=(820,) dtype=float32_ref>,\n",
       " <tf.Variable 'module_1/MobilenetV2/Conv/weights:0' shape=(3, 3, 3, 16) dtype=float32>,\n",
       " <tf.Variable 'module_1/MobilenetV2/Conv/BatchNorm/gamma:0' shape=(16,) dtype=float32>,\n",
       " <tf.Variable 'module_1/MobilenetV2/Conv/BatchNorm/beta:0' shape=(16,) dtype=float32>,\n",
       " <tf.Variable 'module_1/MobilenetV2/expanded_conv/depthwise/depthwise_weights:0' shape=(3, 3, 16, 1) dtype=float32>,\n",
       " <tf.Variable 'module_1/MobilenetV2/expanded_conv/depthwise/BatchNorm/gamma:0' shape=(16,) dtype=float32>,\n",
       " <tf.Variable 'module_1/MobilenetV2/expanded_conv/depthwise/BatchNorm/beta:0' shape=(16,) dtype=float32>,\n",
       " <tf.Variable 'module_1/MobilenetV2/expanded_conv/project/weights:0' shape=(1, 1, 16, 8) dtype=float32>,\n",
       " <tf.Variable 'module_1/MobilenetV2/expanded_conv/project/BatchNorm/gamma:0' shape=(8,) dtype=float32>,\n",
       " <tf.Variable 'module_1/MobilenetV2/expanded_conv/project/BatchNorm/beta:0' shape=(8,) dtype=float32>,\n",
       " <tf.Variable 'module_1/MobilenetV2/expanded_conv_1/expand/weights:0' shape=(1, 1, 8, 48) dtype=float32>,\n",
       " <tf.Variable 'module_1/MobilenetV2/expanded_conv_1/expand/BatchNorm/gamma:0' shape=(48,) dtype=float32>,\n",
       " <tf.Variable 'module_1/MobilenetV2/expanded_conv_1/expand/BatchNorm/beta:0' shape=(48,) dtype=float32>,\n",
       " <tf.Variable 'module_1/MobilenetV2/expanded_conv_1/depthwise/depthwise_weights:0' shape=(3, 3, 48, 1) dtype=float32>,\n",
       " <tf.Variable 'module_1/MobilenetV2/expanded_conv_1/depthwise/BatchNorm/gamma:0' shape=(48,) dtype=float32>,\n",
       " <tf.Variable 'module_1/MobilenetV2/expanded_conv_1/depthwise/BatchNorm/beta:0' shape=(48,) dtype=float32>,\n",
       " <tf.Variable 'module_1/MobilenetV2/expanded_conv_1/project/weights:0' shape=(1, 1, 48, 16) dtype=float32>,\n",
       " <tf.Variable 'module_1/MobilenetV2/expanded_conv_1/project/BatchNorm/gamma:0' shape=(16,) dtype=float32>,\n",
       " <tf.Variable 'module_1/MobilenetV2/expanded_conv_1/project/BatchNorm/beta:0' shape=(16,) dtype=float32>,\n",
       " <tf.Variable 'module_1/MobilenetV2/expanded_conv_2/expand/weights:0' shape=(1, 1, 16, 96) dtype=float32>,\n",
       " <tf.Variable 'module_1/MobilenetV2/expanded_conv_2/expand/BatchNorm/gamma:0' shape=(96,) dtype=float32>,\n",
       " <tf.Variable 'module_1/MobilenetV2/expanded_conv_2/expand/BatchNorm/beta:0' shape=(96,) dtype=float32>,\n",
       " <tf.Variable 'module_1/MobilenetV2/expanded_conv_2/depthwise/depthwise_weights:0' shape=(3, 3, 96, 1) dtype=float32>,\n",
       " <tf.Variable 'module_1/MobilenetV2/expanded_conv_2/depthwise/BatchNorm/gamma:0' shape=(96,) dtype=float32>,\n",
       " <tf.Variable 'module_1/MobilenetV2/expanded_conv_2/depthwise/BatchNorm/beta:0' shape=(96,) dtype=float32>,\n",
       " <tf.Variable 'module_1/MobilenetV2/expanded_conv_2/project/weights:0' shape=(1, 1, 96, 16) dtype=float32>,\n",
       " <tf.Variable 'module_1/MobilenetV2/expanded_conv_2/project/BatchNorm/gamma:0' shape=(16,) dtype=float32>,\n",
       " <tf.Variable 'module_1/MobilenetV2/expanded_conv_2/project/BatchNorm/beta:0' shape=(16,) dtype=float32>,\n",
       " <tf.Variable 'module_1/MobilenetV2/expanded_conv_3/expand/weights:0' shape=(1, 1, 16, 96) dtype=float32>,\n",
       " <tf.Variable 'module_1/MobilenetV2/expanded_conv_3/expand/BatchNorm/gamma:0' shape=(96,) dtype=float32>,\n",
       " <tf.Variable 'module_1/MobilenetV2/expanded_conv_3/expand/BatchNorm/beta:0' shape=(96,) dtype=float32>,\n",
       " <tf.Variable 'module_1/MobilenetV2/expanded_conv_3/depthwise/depthwise_weights:0' shape=(3, 3, 96, 1) dtype=float32>,\n",
       " <tf.Variable 'module_1/MobilenetV2/expanded_conv_3/depthwise/BatchNorm/gamma:0' shape=(96,) dtype=float32>,\n",
       " <tf.Variable 'module_1/MobilenetV2/expanded_conv_3/depthwise/BatchNorm/beta:0' shape=(96,) dtype=float32>,\n",
       " <tf.Variable 'module_1/MobilenetV2/expanded_conv_3/project/weights:0' shape=(1, 1, 96, 16) dtype=float32>,\n",
       " <tf.Variable 'module_1/MobilenetV2/expanded_conv_3/project/BatchNorm/gamma:0' shape=(16,) dtype=float32>,\n",
       " <tf.Variable 'module_1/MobilenetV2/expanded_conv_3/project/BatchNorm/beta:0' shape=(16,) dtype=float32>,\n",
       " <tf.Variable 'module_1/MobilenetV2/expanded_conv_4/expand/weights:0' shape=(1, 1, 16, 96) dtype=float32>,\n",
       " <tf.Variable 'module_1/MobilenetV2/expanded_conv_4/expand/BatchNorm/gamma:0' shape=(96,) dtype=float32>,\n",
       " <tf.Variable 'module_1/MobilenetV2/expanded_conv_4/expand/BatchNorm/beta:0' shape=(96,) dtype=float32>,\n",
       " <tf.Variable 'module_1/MobilenetV2/expanded_conv_4/depthwise/depthwise_weights:0' shape=(3, 3, 96, 1) dtype=float32>,\n",
       " <tf.Variable 'module_1/MobilenetV2/expanded_conv_4/depthwise/BatchNorm/gamma:0' shape=(96,) dtype=float32>,\n",
       " <tf.Variable 'module_1/MobilenetV2/expanded_conv_4/depthwise/BatchNorm/beta:0' shape=(96,) dtype=float32>,\n",
       " <tf.Variable 'module_1/MobilenetV2/expanded_conv_4/project/weights:0' shape=(1, 1, 96, 16) dtype=float32>,\n",
       " <tf.Variable 'module_1/MobilenetV2/expanded_conv_4/project/BatchNorm/gamma:0' shape=(16,) dtype=float32>,\n",
       " <tf.Variable 'module_1/MobilenetV2/expanded_conv_4/project/BatchNorm/beta:0' shape=(16,) dtype=float32>,\n",
       " <tf.Variable 'module_1/MobilenetV2/expanded_conv_5/expand/weights:0' shape=(1, 1, 16, 96) dtype=float32>,\n",
       " <tf.Variable 'module_1/MobilenetV2/expanded_conv_5/expand/BatchNorm/gamma:0' shape=(96,) dtype=float32>,\n",
       " <tf.Variable 'module_1/MobilenetV2/expanded_conv_5/expand/BatchNorm/beta:0' shape=(96,) dtype=float32>,\n",
       " <tf.Variable 'module_1/MobilenetV2/expanded_conv_5/depthwise/depthwise_weights:0' shape=(3, 3, 96, 1) dtype=float32>,\n",
       " <tf.Variable 'module_1/MobilenetV2/expanded_conv_5/depthwise/BatchNorm/gamma:0' shape=(96,) dtype=float32>,\n",
       " <tf.Variable 'module_1/MobilenetV2/expanded_conv_5/depthwise/BatchNorm/beta:0' shape=(96,) dtype=float32>,\n",
       " <tf.Variable 'module_1/MobilenetV2/expanded_conv_5/project/weights:0' shape=(1, 1, 96, 16) dtype=float32>,\n",
       " <tf.Variable 'module_1/MobilenetV2/expanded_conv_5/project/BatchNorm/gamma:0' shape=(16,) dtype=float32>,\n",
       " <tf.Variable 'module_1/MobilenetV2/expanded_conv_5/project/BatchNorm/beta:0' shape=(16,) dtype=float32>,\n",
       " <tf.Variable 'module_1/MobilenetV2/expanded_conv_6/expand/weights:0' shape=(1, 1, 16, 96) dtype=float32>,\n",
       " <tf.Variable 'module_1/MobilenetV2/expanded_conv_6/expand/BatchNorm/gamma:0' shape=(96,) dtype=float32>,\n",
       " <tf.Variable 'module_1/MobilenetV2/expanded_conv_6/expand/BatchNorm/beta:0' shape=(96,) dtype=float32>,\n",
       " <tf.Variable 'module_1/MobilenetV2/expanded_conv_6/depthwise/depthwise_weights:0' shape=(3, 3, 96, 1) dtype=float32>,\n",
       " <tf.Variable 'module_1/MobilenetV2/expanded_conv_6/depthwise/BatchNorm/gamma:0' shape=(96,) dtype=float32>,\n",
       " <tf.Variable 'module_1/MobilenetV2/expanded_conv_6/depthwise/BatchNorm/beta:0' shape=(96,) dtype=float32>,\n",
       " <tf.Variable 'module_1/MobilenetV2/expanded_conv_6/project/weights:0' shape=(1, 1, 96, 32) dtype=float32>,\n",
       " <tf.Variable 'module_1/MobilenetV2/expanded_conv_6/project/BatchNorm/gamma:0' shape=(32,) dtype=float32>,\n",
       " <tf.Variable 'module_1/MobilenetV2/expanded_conv_6/project/BatchNorm/beta:0' shape=(32,) dtype=float32>,\n",
       " <tf.Variable 'module_1/MobilenetV2/expanded_conv_7/expand/weights:0' shape=(1, 1, 32, 192) dtype=float32>,\n",
       " <tf.Variable 'module_1/MobilenetV2/expanded_conv_7/expand/BatchNorm/gamma:0' shape=(192,) dtype=float32>,\n",
       " <tf.Variable 'module_1/MobilenetV2/expanded_conv_7/expand/BatchNorm/beta:0' shape=(192,) dtype=float32>,\n",
       " <tf.Variable 'module_1/MobilenetV2/expanded_conv_7/depthwise/depthwise_weights:0' shape=(3, 3, 192, 1) dtype=float32>,\n",
       " <tf.Variable 'module_1/MobilenetV2/expanded_conv_7/depthwise/BatchNorm/gamma:0' shape=(192,) dtype=float32>,\n",
       " <tf.Variable 'module_1/MobilenetV2/expanded_conv_7/depthwise/BatchNorm/beta:0' shape=(192,) dtype=float32>,\n",
       " <tf.Variable 'module_1/MobilenetV2/expanded_conv_7/project/weights:0' shape=(1, 1, 192, 32) dtype=float32>,\n",
       " <tf.Variable 'module_1/MobilenetV2/expanded_conv_7/project/BatchNorm/gamma:0' shape=(32,) dtype=float32>,\n",
       " <tf.Variable 'module_1/MobilenetV2/expanded_conv_7/project/BatchNorm/beta:0' shape=(32,) dtype=float32>,\n",
       " <tf.Variable 'module_1/MobilenetV2/expanded_conv_8/expand/weights:0' shape=(1, 1, 32, 192) dtype=float32>,\n",
       " <tf.Variable 'module_1/MobilenetV2/expanded_conv_8/expand/BatchNorm/gamma:0' shape=(192,) dtype=float32>,\n",
       " <tf.Variable 'module_1/MobilenetV2/expanded_conv_8/expand/BatchNorm/beta:0' shape=(192,) dtype=float32>,\n",
       " <tf.Variable 'module_1/MobilenetV2/expanded_conv_8/depthwise/depthwise_weights:0' shape=(3, 3, 192, 1) dtype=float32>,\n",
       " <tf.Variable 'module_1/MobilenetV2/expanded_conv_8/depthwise/BatchNorm/gamma:0' shape=(192,) dtype=float32>,\n",
       " <tf.Variable 'module_1/MobilenetV2/expanded_conv_8/depthwise/BatchNorm/beta:0' shape=(192,) dtype=float32>,\n",
       " <tf.Variable 'module_1/MobilenetV2/expanded_conv_8/project/weights:0' shape=(1, 1, 192, 32) dtype=float32>,\n",
       " <tf.Variable 'module_1/MobilenetV2/expanded_conv_8/project/BatchNorm/gamma:0' shape=(32,) dtype=float32>,\n",
       " <tf.Variable 'module_1/MobilenetV2/expanded_conv_8/project/BatchNorm/beta:0' shape=(32,) dtype=float32>,\n",
       " <tf.Variable 'module_1/MobilenetV2/expanded_conv_9/expand/weights:0' shape=(1, 1, 32, 192) dtype=float32>,\n",
       " <tf.Variable 'module_1/MobilenetV2/expanded_conv_9/expand/BatchNorm/gamma:0' shape=(192,) dtype=float32>,\n",
       " <tf.Variable 'module_1/MobilenetV2/expanded_conv_9/expand/BatchNorm/beta:0' shape=(192,) dtype=float32>,\n",
       " <tf.Variable 'module_1/MobilenetV2/expanded_conv_9/depthwise/depthwise_weights:0' shape=(3, 3, 192, 1) dtype=float32>,\n",
       " <tf.Variable 'module_1/MobilenetV2/expanded_conv_9/depthwise/BatchNorm/gamma:0' shape=(192,) dtype=float32>,\n",
       " <tf.Variable 'module_1/MobilenetV2/expanded_conv_9/depthwise/BatchNorm/beta:0' shape=(192,) dtype=float32>,\n",
       " <tf.Variable 'module_1/MobilenetV2/expanded_conv_9/project/weights:0' shape=(1, 1, 192, 32) dtype=float32>,\n",
       " <tf.Variable 'module_1/MobilenetV2/expanded_conv_9/project/BatchNorm/gamma:0' shape=(32,) dtype=float32>,\n",
       " <tf.Variable 'module_1/MobilenetV2/expanded_conv_9/project/BatchNorm/beta:0' shape=(32,) dtype=float32>,\n",
       " <tf.Variable 'module_1/MobilenetV2/expanded_conv_10/expand/weights:0' shape=(1, 1, 32, 192) dtype=float32>,\n",
       " <tf.Variable 'module_1/MobilenetV2/expanded_conv_10/expand/BatchNorm/gamma:0' shape=(192,) dtype=float32>,\n",
       " <tf.Variable 'module_1/MobilenetV2/expanded_conv_10/expand/BatchNorm/beta:0' shape=(192,) dtype=float32>,\n",
       " <tf.Variable 'module_1/MobilenetV2/expanded_conv_10/depthwise/depthwise_weights:0' shape=(3, 3, 192, 1) dtype=float32>,\n",
       " <tf.Variable 'module_1/MobilenetV2/expanded_conv_10/depthwise/BatchNorm/gamma:0' shape=(192,) dtype=float32>,\n",
       " <tf.Variable 'module_1/MobilenetV2/expanded_conv_10/depthwise/BatchNorm/beta:0' shape=(192,) dtype=float32>,\n",
       " <tf.Variable 'module_1/MobilenetV2/expanded_conv_10/project/weights:0' shape=(1, 1, 192, 48) dtype=float32>,\n",
       " <tf.Variable 'module_1/MobilenetV2/expanded_conv_10/project/BatchNorm/gamma:0' shape=(48,) dtype=float32>,\n",
       " <tf.Variable 'module_1/MobilenetV2/expanded_conv_10/project/BatchNorm/beta:0' shape=(48,) dtype=float32>,\n",
       " <tf.Variable 'module_1/MobilenetV2/expanded_conv_11/expand/weights:0' shape=(1, 1, 48, 288) dtype=float32>,\n",
       " <tf.Variable 'module_1/MobilenetV2/expanded_conv_11/expand/BatchNorm/gamma:0' shape=(288,) dtype=float32>,\n",
       " <tf.Variable 'module_1/MobilenetV2/expanded_conv_11/expand/BatchNorm/beta:0' shape=(288,) dtype=float32>,\n",
       " <tf.Variable 'module_1/MobilenetV2/expanded_conv_11/depthwise/depthwise_weights:0' shape=(3, 3, 288, 1) dtype=float32>,\n",
       " <tf.Variable 'module_1/MobilenetV2/expanded_conv_11/depthwise/BatchNorm/gamma:0' shape=(288,) dtype=float32>,\n",
       " <tf.Variable 'module_1/MobilenetV2/expanded_conv_11/depthwise/BatchNorm/beta:0' shape=(288,) dtype=float32>,\n",
       " <tf.Variable 'module_1/MobilenetV2/expanded_conv_11/project/weights:0' shape=(1, 1, 288, 48) dtype=float32>,\n",
       " <tf.Variable 'module_1/MobilenetV2/expanded_conv_11/project/BatchNorm/gamma:0' shape=(48,) dtype=float32>,\n",
       " <tf.Variable 'module_1/MobilenetV2/expanded_conv_11/project/BatchNorm/beta:0' shape=(48,) dtype=float32>,\n",
       " <tf.Variable 'module_1/MobilenetV2/expanded_conv_12/expand/weights:0' shape=(1, 1, 48, 288) dtype=float32>,\n",
       " <tf.Variable 'module_1/MobilenetV2/expanded_conv_12/expand/BatchNorm/gamma:0' shape=(288,) dtype=float32>,\n",
       " <tf.Variable 'module_1/MobilenetV2/expanded_conv_12/expand/BatchNorm/beta:0' shape=(288,) dtype=float32>,\n",
       " <tf.Variable 'module_1/MobilenetV2/expanded_conv_12/depthwise/depthwise_weights:0' shape=(3, 3, 288, 1) dtype=float32>,\n",
       " <tf.Variable 'module_1/MobilenetV2/expanded_conv_12/depthwise/BatchNorm/gamma:0' shape=(288,) dtype=float32>,\n",
       " <tf.Variable 'module_1/MobilenetV2/expanded_conv_12/depthwise/BatchNorm/beta:0' shape=(288,) dtype=float32>,\n",
       " <tf.Variable 'module_1/MobilenetV2/expanded_conv_12/project/weights:0' shape=(1, 1, 288, 48) dtype=float32>,\n",
       " <tf.Variable 'module_1/MobilenetV2/expanded_conv_12/project/BatchNorm/gamma:0' shape=(48,) dtype=float32>,\n",
       " <tf.Variable 'module_1/MobilenetV2/expanded_conv_12/project/BatchNorm/beta:0' shape=(48,) dtype=float32>,\n",
       " <tf.Variable 'module_1/MobilenetV2/expanded_conv_13/expand/weights:0' shape=(1, 1, 48, 288) dtype=float32>,\n",
       " <tf.Variable 'module_1/MobilenetV2/expanded_conv_13/expand/BatchNorm/gamma:0' shape=(288,) dtype=float32>,\n",
       " <tf.Variable 'module_1/MobilenetV2/expanded_conv_13/expand/BatchNorm/beta:0' shape=(288,) dtype=float32>,\n",
       " <tf.Variable 'module_1/MobilenetV2/expanded_conv_13/depthwise/depthwise_weights:0' shape=(3, 3, 288, 1) dtype=float32>,\n",
       " <tf.Variable 'module_1/MobilenetV2/expanded_conv_13/depthwise/BatchNorm/gamma:0' shape=(288,) dtype=float32>,\n",
       " <tf.Variable 'module_1/MobilenetV2/expanded_conv_13/depthwise/BatchNorm/beta:0' shape=(288,) dtype=float32>,\n",
       " <tf.Variable 'module_1/MobilenetV2/expanded_conv_13/project/weights:0' shape=(1, 1, 288, 80) dtype=float32>,\n",
       " <tf.Variable 'module_1/MobilenetV2/expanded_conv_13/project/BatchNorm/gamma:0' shape=(80,) dtype=float32>,\n",
       " <tf.Variable 'module_1/MobilenetV2/expanded_conv_13/project/BatchNorm/beta:0' shape=(80,) dtype=float32>,\n",
       " <tf.Variable 'module_1/MobilenetV2/expanded_conv_14/expand/weights:0' shape=(1, 1, 80, 480) dtype=float32>,\n",
       " <tf.Variable 'module_1/MobilenetV2/expanded_conv_14/expand/BatchNorm/gamma:0' shape=(480,) dtype=float32>,\n",
       " <tf.Variable 'module_1/MobilenetV2/expanded_conv_14/expand/BatchNorm/beta:0' shape=(480,) dtype=float32>,\n",
       " <tf.Variable 'module_1/MobilenetV2/expanded_conv_14/depthwise/depthwise_weights:0' shape=(3, 3, 480, 1) dtype=float32>,\n",
       " <tf.Variable 'module_1/MobilenetV2/expanded_conv_14/depthwise/BatchNorm/gamma:0' shape=(480,) dtype=float32>,\n",
       " <tf.Variable 'module_1/MobilenetV2/expanded_conv_14/depthwise/BatchNorm/beta:0' shape=(480,) dtype=float32>,\n",
       " <tf.Variable 'module_1/MobilenetV2/expanded_conv_14/project/weights:0' shape=(1, 1, 480, 80) dtype=float32>,\n",
       " <tf.Variable 'module_1/MobilenetV2/expanded_conv_14/project/BatchNorm/gamma:0' shape=(80,) dtype=float32>,\n",
       " <tf.Variable 'module_1/MobilenetV2/expanded_conv_14/project/BatchNorm/beta:0' shape=(80,) dtype=float32>,\n",
       " <tf.Variable 'module_1/MobilenetV2/expanded_conv_15/expand/weights:0' shape=(1, 1, 80, 480) dtype=float32>,\n",
       " <tf.Variable 'module_1/MobilenetV2/expanded_conv_15/expand/BatchNorm/gamma:0' shape=(480,) dtype=float32>,\n",
       " <tf.Variable 'module_1/MobilenetV2/expanded_conv_15/expand/BatchNorm/beta:0' shape=(480,) dtype=float32>,\n",
       " <tf.Variable 'module_1/MobilenetV2/expanded_conv_15/depthwise/depthwise_weights:0' shape=(3, 3, 480, 1) dtype=float32>,\n",
       " <tf.Variable 'module_1/MobilenetV2/expanded_conv_15/depthwise/BatchNorm/gamma:0' shape=(480,) dtype=float32>,\n",
       " <tf.Variable 'module_1/MobilenetV2/expanded_conv_15/depthwise/BatchNorm/beta:0' shape=(480,) dtype=float32>,\n",
       " <tf.Variable 'module_1/MobilenetV2/expanded_conv_15/project/weights:0' shape=(1, 1, 480, 80) dtype=float32>,\n",
       " <tf.Variable 'module_1/MobilenetV2/expanded_conv_15/project/BatchNorm/gamma:0' shape=(80,) dtype=float32>,\n",
       " <tf.Variable 'module_1/MobilenetV2/expanded_conv_15/project/BatchNorm/beta:0' shape=(80,) dtype=float32>,\n",
       " <tf.Variable 'module_1/MobilenetV2/expanded_conv_16/expand/weights:0' shape=(1, 1, 80, 480) dtype=float32>,\n",
       " <tf.Variable 'module_1/MobilenetV2/expanded_conv_16/expand/BatchNorm/gamma:0' shape=(480,) dtype=float32>,\n",
       " <tf.Variable 'module_1/MobilenetV2/expanded_conv_16/expand/BatchNorm/beta:0' shape=(480,) dtype=float32>,\n",
       " <tf.Variable 'module_1/MobilenetV2/expanded_conv_16/depthwise/depthwise_weights:0' shape=(3, 3, 480, 1) dtype=float32>,\n",
       " <tf.Variable 'module_1/MobilenetV2/expanded_conv_16/depthwise/BatchNorm/gamma:0' shape=(480,) dtype=float32>,\n",
       " <tf.Variable 'module_1/MobilenetV2/expanded_conv_16/depthwise/BatchNorm/beta:0' shape=(480,) dtype=float32>,\n",
       " <tf.Variable 'module_1/MobilenetV2/expanded_conv_16/project/weights:0' shape=(1, 1, 480, 160) dtype=float32>,\n",
       " <tf.Variable 'module_1/MobilenetV2/expanded_conv_16/project/BatchNorm/gamma:0' shape=(160,) dtype=float32>,\n",
       " <tf.Variable 'module_1/MobilenetV2/expanded_conv_16/project/BatchNorm/beta:0' shape=(160,) dtype=float32>,\n",
       " <tf.Variable 'module_1/MobilenetV2/Conv_1/weights:0' shape=(1, 1, 160, 1280) dtype=float32>,\n",
       " <tf.Variable 'module_1/MobilenetV2/Conv_1/BatchNorm/gamma:0' shape=(1280,) dtype=float32>,\n",
       " <tf.Variable 'module_1/MobilenetV2/Conv_1/BatchNorm/beta:0' shape=(1280,) dtype=float32>,\n",
       " <tf.Variable 'dense_1/kernel:0' shape=(1280, 820) dtype=float32_ref>,\n",
       " <tf.Variable 'dense_1/bias:0' shape=(820,) dtype=float32_ref>]"
      ]
     },
     "execution_count": 6,
     "metadata": {},
     "output_type": "execute_result"
    }
   ],
   "source": [
    "tf.trainable_variables()"
   ]
  },
  {
   "cell_type": "code",
   "execution_count": 5,
   "metadata": {},
   "outputs": [
    {
     "name": "stdout",
     "output_type": "stream",
     "text": [
      "INFO:tensorflow:Saver not created because there are no variables in the graph to restore\n"
     ]
    },
    {
     "name": "stderr",
     "output_type": "stream",
     "text": [
      "I0305 20:38:58.444226  3300 saver.py:1483] Saver not created because there are no variables in the graph to restore\n"
     ]
    }
   ],
   "source": [
    "module = hub.Module(\"https://tfhub.dev/google/imagenet/mobilenet_v2_050_96/feature_vector/2\", trainable = True)\n",
    "height, width = hub.get_expected_image_size(module)\n",
    "images = np.random.rand(3,height,width,3)  # A batch of images with shape [batch_size, height, width, 3].\n",
    "features = module(images)  # Features with shape [batch_size, num_features].\n"
   ]
  },
  {
   "cell_type": "code",
   "execution_count": 7,
   "metadata": {},
   "outputs": [
    {
     "name": "stdout",
     "output_type": "stream",
     "text": [
      "WARNING:tensorflow:From <ipython-input-7-5ecd8d224286>:1: dense (from tensorflow.python.layers.core) is deprecated and will be removed in a future version.\n",
      "Instructions for updating:\n",
      "Use keras.layers.dense instead.\n"
     ]
    },
    {
     "name": "stderr",
     "output_type": "stream",
     "text": [
      "W0305 20:39:27.151699  3300 deprecation.py:323] From <ipython-input-7-5ecd8d224286>:1: dense (from tensorflow.python.layers.core) is deprecated and will be removed in a future version.\n",
      "Instructions for updating:\n",
      "Use keras.layers.dense instead.\n"
     ]
    },
    {
     "data": {
      "text/plain": [
       "<tf.Tensor 'dense/BiasAdd:0' shape=(3, 1028) dtype=float32>"
      ]
     },
     "execution_count": 7,
     "metadata": {},
     "output_type": "execute_result"
    }
   ],
   "source": [
    "tf.layers.dense(features, 1028)"
   ]
  },
  {
   "cell_type": "code",
   "execution_count": 11,
   "metadata": {},
   "outputs": [
    {
     "ename": "AttributeError",
     "evalue": "module 'tensorflow._api.v1.keras.layers' has no attribute 'dense'",
     "output_type": "error",
     "traceback": [
      "\u001b[1;31m---------------------------------------------------------------------------\u001b[0m",
      "\u001b[1;31mAttributeError\u001b[0m                            Traceback (most recent call last)",
      "\u001b[1;32m<ipython-input-11-dd33ef8ccd16>\u001b[0m in \u001b[0;36m<module>\u001b[1;34m()\u001b[0m\n\u001b[1;32m----> 1\u001b[1;33m \u001b[0mtf\u001b[0m\u001b[1;33m.\u001b[0m\u001b[0mkeras\u001b[0m\u001b[1;33m.\u001b[0m\u001b[0mlayers\u001b[0m\u001b[1;33m.\u001b[0m\u001b[0mdense\u001b[0m\u001b[1;33m(\u001b[0m\u001b[0mfeatures\u001b[0m\u001b[1;33m,\u001b[0m\u001b[1;36m1028\u001b[0m\u001b[1;33m)\u001b[0m\u001b[1;33m\u001b[0m\u001b[0m\n\u001b[0m",
      "\u001b[1;31mAttributeError\u001b[0m: module 'tensorflow._api.v1.keras.layers' has no attribute 'dense'"
     ]
    }
   ],
   "source": [
    "tf.keras.layers.dense(features,1028)"
   ]
  },
  {
   "cell_type": "code",
   "execution_count": 12,
   "metadata": {},
   "outputs": [
    {
     "ename": "AttributeError",
     "evalue": "'Tensor' object has no attribute 'run'",
     "output_type": "error",
     "traceback": [
      "\u001b[1;31m---------------------------------------------------------------------------\u001b[0m",
      "\u001b[1;31mAttributeError\u001b[0m                            Traceback (most recent call last)",
      "\u001b[1;32m<ipython-input-12-765f14f11663>\u001b[0m in \u001b[0;36m<module>\u001b[1;34m()\u001b[0m\n\u001b[0;32m      1\u001b[0m \u001b[1;32mwith\u001b[0m \u001b[0mtf\u001b[0m\u001b[1;33m.\u001b[0m\u001b[0mSession\u001b[0m\u001b[1;33m(\u001b[0m\u001b[1;33m)\u001b[0m \u001b[1;32mas\u001b[0m \u001b[0msess\u001b[0m\u001b[1;33m:\u001b[0m\u001b[1;33m\u001b[0m\u001b[0m\n\u001b[1;32m----> 2\u001b[1;33m     \u001b[0mfeatures\u001b[0m\u001b[1;33m.\u001b[0m\u001b[0mrun\u001b[0m\u001b[1;33m(\u001b[0m\u001b[1;33m)\u001b[0m\u001b[1;33m\u001b[0m\u001b[0m\n\u001b[0m",
      "\u001b[1;31mAttributeError\u001b[0m: 'Tensor' object has no attribute 'run'"
     ]
    }
   ],
   "source": [
    "with tf.Session() as sess:\n",
    "    sess.run(features, feed_dict)"
   ]
  },
  {
   "cell_type": "code",
   "execution_count": null,
   "metadata": {},
   "outputs": [],
   "source": []
  }
 ],
 "metadata": {
  "kernelspec": {
   "display_name": "Python 3",
   "language": "python",
   "name": "python3"
  },
  "language_info": {
   "codemirror_mode": {
    "name": "ipython",
    "version": 3
   },
   "file_extension": ".py",
   "mimetype": "text/x-python",
   "name": "python",
   "nbconvert_exporter": "python",
   "pygments_lexer": "ipython3",
   "version": "3.7.1"
  },
  "toc": {
   "base_numbering": 1,
   "nav_menu": {},
   "number_sections": true,
   "sideBar": true,
   "skip_h1_title": false,
   "title_cell": "Table of Contents",
   "title_sidebar": "Contents",
   "toc_cell": true,
   "toc_position": {},
   "toc_section_display": true,
   "toc_window_display": false
  }
 },
 "nbformat": 4,
 "nbformat_minor": 2
}
