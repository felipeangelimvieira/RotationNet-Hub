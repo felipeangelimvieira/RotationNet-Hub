{
 "cells": [
  {
   "cell_type": "markdown",
   "metadata": {
    "toc": true
   },
   "source": [
    "<h1>Table of Contents<span class=\"tocSkip\"></span></h1>\n",
    "<div class=\"toc\"><ul class=\"toc-item\"></ul></div>"
   ]
  },
  {
   "cell_type": "code",
   "execution_count": 1,
   "metadata": {},
   "outputs": [
    {
     "name": "stderr",
     "output_type": "stream",
     "text": [
      "WARNING: Logging before flag parsing goes to stderr.\n",
      "W0322 22:53:21.673621 15872 __init__.py:56] Some hub symbols are not available because TensorFlow version is less than 1.14\n"
     ]
    }
   ],
   "source": [
    "from model import Model\n",
    "from dataloader import Dataloader\n",
    "from trainer import Trainer\n",
    "import matplotlib.pyplot as plt\n",
    "import tensorflow as tf\n",
    "import numpy as np"
   ]
  },
  {
   "cell_type": "code",
   "execution_count": null,
   "metadata": {},
   "outputs": [
    {
     "name": "stderr",
     "output_type": "stream",
     "text": [
      "C:\\Users\\Felipe\\Anaconda3\\lib\\site-packages\\tensorflow\\python\\client\\session.py:1702: UserWarning: An interactive session is already active. This can cause out-of-memory errors in some cases. You must explicitly call `InteractiveSession.close()` to release resources held by the other session(s).\n",
      "  warnings.warn('An interactive session is already active. This can '\n"
     ]
    },
    {
     "name": "stdout",
     "output_type": "stream",
     "text": [
      "['airplane' 'bathtub' 'bed' 'bench' 'bookshelf' 'bottle' 'bowl' 'car'\n",
      " 'chair' 'cone' 'cup' 'curtain' 'desk' 'door' 'dresser' 'flower_pot'\n",
      " 'glass_box' 'guitar' 'keyboard' 'lamp' 'laptop' 'mantel' 'monitor'\n",
      " 'night_stand' 'person' 'piano' 'plant' 'radio' 'range_hood' 'sink' 'sofa'\n",
      " 'stairs' 'stool' 'table' 'tent' 'toilet' 'tv_stand' 'vase' 'wardrobe'\n",
      " 'xbox']\n",
      "224 224 AAAA\n",
      "Tensor(\"IteratorGetNext_1:0\", shape=(?, ?, 224, 224, ?), dtype=float32)\n",
      "Tensor(\"IteratorGetNext_1:1\", shape=(?, ?), dtype=int64)\n",
      "INFO:tensorflow:Saver not created because there are no variables in the graph to restore\n"
     ]
    },
    {
     "name": "stderr",
     "output_type": "stream",
     "text": [
      "I0322 23:01:09.546550 15872 saver.py:1483] Saver not created because there are no variables in the graph to restore\n"
     ]
    },
    {
     "name": "stdout",
     "output_type": "stream",
     "text": [
      "Tensor(\"Log_1:0\", shape=(3, 20, 20, 41), dtype=float32)\n",
      "3281\n",
      "196860\n",
      "3\n",
      "20\n"
     ]
    },
    {
     "name": "stderr",
     "output_type": "stream",
     "text": [
      "100%|██████████████████████████████████████████████████████████████████████████████| 3281/3281 [06:23<00:00,  8.34it/s]\n"
     ]
    },
    {
     "name": "stdout",
     "output_type": "stream",
     "text": [
      "Score for 9843\n",
      "0.6793660469369095\n"
     ]
    },
    {
     "name": "stderr",
     "output_type": "stream",
     "text": [
      "100%|██████████████████████████████████████████████████████████████████████████████| 3281/3281 [06:22<00:00,  7.28it/s]\n"
     ]
    },
    {
     "name": "stdout",
     "output_type": "stream",
     "text": [
      "Score for 9843\n",
      "0.8130651224220258\n"
     ]
    },
    {
     "name": "stderr",
     "output_type": "stream",
     "text": [
      "100%|██████████████████████████████████████████████████████████████████████████████| 3281/3281 [05:56<00:00,  9.34it/s]\n"
     ]
    },
    {
     "name": "stdout",
     "output_type": "stream",
     "text": [
      "Score for 9843\n",
      "0.8424260896068272\n"
     ]
    },
    {
     "name": "stderr",
     "output_type": "stream",
     "text": [
      "100%|██████████████████████████████████████████████████████████████████████████████| 3281/3281 [05:57<00:00,  9.36it/s]\n"
     ]
    },
    {
     "name": "stdout",
     "output_type": "stream",
     "text": [
      "Score for 9843\n",
      "0.8571573707203088\n"
     ]
    },
    {
     "name": "stderr",
     "output_type": "stream",
     "text": [
      "100%|██████████████████████████████████████████████████████████████████████████████| 3281/3281 [05:51<00:00,  9.40it/s]\n"
     ]
    },
    {
     "name": "stdout",
     "output_type": "stream",
     "text": [
      "Score for 9843\n",
      "0.870974296454333\n"
     ]
    },
    {
     "name": "stderr",
     "output_type": "stream",
     "text": [
      "  3%|██▍                                                                            | 102/3281 [00:10<05:43,  9.26it/s]"
     ]
    }
   ],
   "source": [
    "config  = {\"module_path\": \"https://tfhub.dev/google/imagenet/mobilenet_v2_100_224/feature_vector/2\",\n",
    "           \"train_images_path\": \"modelnet40v2png_ori4/*/train/*\",\n",
    "           \"test_images_path\": \"modelnet40v2png_ori4/*/test/*\",\n",
    "           \"batch_size\": 3,\n",
    "           \"n_views\": 20,\n",
    "           \"epochs\": 10,\n",
    "           \"v_cands\": \"vcand_case2.npy\",\n",
    "           \"weight_decay\": 1e-4,\n",
    "           \"momentum\": 0.9,\n",
    "           \"decay_rate\": 0.1,\n",
    "           \"decay_steps\":  400e4,\n",
    "           \"learning_rate\": 0.01 }\n",
    "\n",
    "config_proto = tf.ConfigProto()\n",
    "config_proto.gpu_options.allow_growth = True\n",
    "sess = tf.InteractiveSession(config=config_proto)\n",
    "dataloader = Dataloader(sess, config, prefetch_buffer_size = 50)\n",
    "model = Model(sess, dataloader, config)\n",
    "model.build_model()\n",
    "trainer = Trainer(sess,model,dataloader,config)\n",
    "trainer.train()"
   ]
  },
  {
   "cell_type": "code",
   "execution_count": 3,
   "metadata": {},
   "outputs": [],
   "source": [
    "sess.run(dataloader.training_initializer)"
   ]
  },
  {
   "cell_type": "code",
   "execution_count": 21,
   "metadata": {},
   "outputs": [],
   "source": [
    "for i in range(1):\n",
    "    _,input, hidden_layer, logits, probs, log_p, scores, loss, predictions, loss1,loss2,loss3, labels = sess.run([model.train_step,model.input,model.hidden_layer, model.logits,model.probs,model.log_p, model.scores, model.loss, model.predictions, model.loss1, model.loss2, model.loss3, model.labels], feed_dict = { dataloader.handle : dataloader.training_handle})"
   ]
  },
  {
   "cell_type": "code",
   "execution_count": 22,
   "metadata": {},
   "outputs": [
    {
     "data": {
      "text/plain": [
       "array([False, False, False])"
      ]
     },
     "execution_count": 22,
     "metadata": {},
     "output_type": "execute_result"
    }
   ],
   "source": [
    "predictions == labels"
   ]
  },
  {
   "cell_type": "code",
   "execution_count": 21,
   "metadata": {},
   "outputs": [
    {
     "data": {
      "text/plain": [
       "[<tf.Variable 'module/MobilenetV2/Conv/weights:0' shape=(3, 3, 3, 32) dtype=float32>,\n",
       " <tf.Variable 'module/MobilenetV2/Conv/BatchNorm/gamma:0' shape=(32,) dtype=float32>,\n",
       " <tf.Variable 'module/MobilenetV2/Conv/BatchNorm/beta:0' shape=(32,) dtype=float32>,\n",
       " <tf.Variable 'module/MobilenetV2/expanded_conv/depthwise/depthwise_weights:0' shape=(3, 3, 32, 1) dtype=float32>,\n",
       " <tf.Variable 'module/MobilenetV2/expanded_conv/depthwise/BatchNorm/gamma:0' shape=(32,) dtype=float32>,\n",
       " <tf.Variable 'module/MobilenetV2/expanded_conv/depthwise/BatchNorm/beta:0' shape=(32,) dtype=float32>,\n",
       " <tf.Variable 'module/MobilenetV2/expanded_conv/project/weights:0' shape=(1, 1, 32, 16) dtype=float32>,\n",
       " <tf.Variable 'module/MobilenetV2/expanded_conv/project/BatchNorm/gamma:0' shape=(16,) dtype=float32>,\n",
       " <tf.Variable 'module/MobilenetV2/expanded_conv/project/BatchNorm/beta:0' shape=(16,) dtype=float32>,\n",
       " <tf.Variable 'module/MobilenetV2/expanded_conv_1/expand/weights:0' shape=(1, 1, 16, 96) dtype=float32>,\n",
       " <tf.Variable 'module/MobilenetV2/expanded_conv_1/expand/BatchNorm/gamma:0' shape=(96,) dtype=float32>,\n",
       " <tf.Variable 'module/MobilenetV2/expanded_conv_1/expand/BatchNorm/beta:0' shape=(96,) dtype=float32>,\n",
       " <tf.Variable 'module/MobilenetV2/expanded_conv_1/depthwise/depthwise_weights:0' shape=(3, 3, 96, 1) dtype=float32>,\n",
       " <tf.Variable 'module/MobilenetV2/expanded_conv_1/depthwise/BatchNorm/gamma:0' shape=(96,) dtype=float32>,\n",
       " <tf.Variable 'module/MobilenetV2/expanded_conv_1/depthwise/BatchNorm/beta:0' shape=(96,) dtype=float32>,\n",
       " <tf.Variable 'module/MobilenetV2/expanded_conv_1/project/weights:0' shape=(1, 1, 96, 24) dtype=float32>,\n",
       " <tf.Variable 'module/MobilenetV2/expanded_conv_1/project/BatchNorm/gamma:0' shape=(24,) dtype=float32>,\n",
       " <tf.Variable 'module/MobilenetV2/expanded_conv_1/project/BatchNorm/beta:0' shape=(24,) dtype=float32>,\n",
       " <tf.Variable 'module/MobilenetV2/expanded_conv_2/expand/weights:0' shape=(1, 1, 24, 144) dtype=float32>,\n",
       " <tf.Variable 'module/MobilenetV2/expanded_conv_2/expand/BatchNorm/gamma:0' shape=(144,) dtype=float32>,\n",
       " <tf.Variable 'module/MobilenetV2/expanded_conv_2/expand/BatchNorm/beta:0' shape=(144,) dtype=float32>,\n",
       " <tf.Variable 'module/MobilenetV2/expanded_conv_2/depthwise/depthwise_weights:0' shape=(3, 3, 144, 1) dtype=float32>,\n",
       " <tf.Variable 'module/MobilenetV2/expanded_conv_2/depthwise/BatchNorm/gamma:0' shape=(144,) dtype=float32>,\n",
       " <tf.Variable 'module/MobilenetV2/expanded_conv_2/depthwise/BatchNorm/beta:0' shape=(144,) dtype=float32>,\n",
       " <tf.Variable 'module/MobilenetV2/expanded_conv_2/project/weights:0' shape=(1, 1, 144, 24) dtype=float32>,\n",
       " <tf.Variable 'module/MobilenetV2/expanded_conv_2/project/BatchNorm/gamma:0' shape=(24,) dtype=float32>,\n",
       " <tf.Variable 'module/MobilenetV2/expanded_conv_2/project/BatchNorm/beta:0' shape=(24,) dtype=float32>,\n",
       " <tf.Variable 'module/MobilenetV2/expanded_conv_3/expand/weights:0' shape=(1, 1, 24, 144) dtype=float32>,\n",
       " <tf.Variable 'module/MobilenetV2/expanded_conv_3/expand/BatchNorm/gamma:0' shape=(144,) dtype=float32>,\n",
       " <tf.Variable 'module/MobilenetV2/expanded_conv_3/expand/BatchNorm/beta:0' shape=(144,) dtype=float32>,\n",
       " <tf.Variable 'module/MobilenetV2/expanded_conv_3/depthwise/depthwise_weights:0' shape=(3, 3, 144, 1) dtype=float32>,\n",
       " <tf.Variable 'module/MobilenetV2/expanded_conv_3/depthwise/BatchNorm/gamma:0' shape=(144,) dtype=float32>,\n",
       " <tf.Variable 'module/MobilenetV2/expanded_conv_3/depthwise/BatchNorm/beta:0' shape=(144,) dtype=float32>,\n",
       " <tf.Variable 'module/MobilenetV2/expanded_conv_3/project/weights:0' shape=(1, 1, 144, 32) dtype=float32>,\n",
       " <tf.Variable 'module/MobilenetV2/expanded_conv_3/project/BatchNorm/gamma:0' shape=(32,) dtype=float32>,\n",
       " <tf.Variable 'module/MobilenetV2/expanded_conv_3/project/BatchNorm/beta:0' shape=(32,) dtype=float32>,\n",
       " <tf.Variable 'module/MobilenetV2/expanded_conv_4/expand/weights:0' shape=(1, 1, 32, 192) dtype=float32>,\n",
       " <tf.Variable 'module/MobilenetV2/expanded_conv_4/expand/BatchNorm/gamma:0' shape=(192,) dtype=float32>,\n",
       " <tf.Variable 'module/MobilenetV2/expanded_conv_4/expand/BatchNorm/beta:0' shape=(192,) dtype=float32>,\n",
       " <tf.Variable 'module/MobilenetV2/expanded_conv_4/depthwise/depthwise_weights:0' shape=(3, 3, 192, 1) dtype=float32>,\n",
       " <tf.Variable 'module/MobilenetV2/expanded_conv_4/depthwise/BatchNorm/gamma:0' shape=(192,) dtype=float32>,\n",
       " <tf.Variable 'module/MobilenetV2/expanded_conv_4/depthwise/BatchNorm/beta:0' shape=(192,) dtype=float32>,\n",
       " <tf.Variable 'module/MobilenetV2/expanded_conv_4/project/weights:0' shape=(1, 1, 192, 32) dtype=float32>,\n",
       " <tf.Variable 'module/MobilenetV2/expanded_conv_4/project/BatchNorm/gamma:0' shape=(32,) dtype=float32>,\n",
       " <tf.Variable 'module/MobilenetV2/expanded_conv_4/project/BatchNorm/beta:0' shape=(32,) dtype=float32>,\n",
       " <tf.Variable 'module/MobilenetV2/expanded_conv_5/expand/weights:0' shape=(1, 1, 32, 192) dtype=float32>,\n",
       " <tf.Variable 'module/MobilenetV2/expanded_conv_5/expand/BatchNorm/gamma:0' shape=(192,) dtype=float32>,\n",
       " <tf.Variable 'module/MobilenetV2/expanded_conv_5/expand/BatchNorm/beta:0' shape=(192,) dtype=float32>,\n",
       " <tf.Variable 'module/MobilenetV2/expanded_conv_5/depthwise/depthwise_weights:0' shape=(3, 3, 192, 1) dtype=float32>,\n",
       " <tf.Variable 'module/MobilenetV2/expanded_conv_5/depthwise/BatchNorm/gamma:0' shape=(192,) dtype=float32>,\n",
       " <tf.Variable 'module/MobilenetV2/expanded_conv_5/depthwise/BatchNorm/beta:0' shape=(192,) dtype=float32>,\n",
       " <tf.Variable 'module/MobilenetV2/expanded_conv_5/project/weights:0' shape=(1, 1, 192, 32) dtype=float32>,\n",
       " <tf.Variable 'module/MobilenetV2/expanded_conv_5/project/BatchNorm/gamma:0' shape=(32,) dtype=float32>,\n",
       " <tf.Variable 'module/MobilenetV2/expanded_conv_5/project/BatchNorm/beta:0' shape=(32,) dtype=float32>,\n",
       " <tf.Variable 'module/MobilenetV2/expanded_conv_6/expand/weights:0' shape=(1, 1, 32, 192) dtype=float32>,\n",
       " <tf.Variable 'module/MobilenetV2/expanded_conv_6/expand/BatchNorm/gamma:0' shape=(192,) dtype=float32>,\n",
       " <tf.Variable 'module/MobilenetV2/expanded_conv_6/expand/BatchNorm/beta:0' shape=(192,) dtype=float32>,\n",
       " <tf.Variable 'module/MobilenetV2/expanded_conv_6/depthwise/depthwise_weights:0' shape=(3, 3, 192, 1) dtype=float32>,\n",
       " <tf.Variable 'module/MobilenetV2/expanded_conv_6/depthwise/BatchNorm/gamma:0' shape=(192,) dtype=float32>,\n",
       " <tf.Variable 'module/MobilenetV2/expanded_conv_6/depthwise/BatchNorm/beta:0' shape=(192,) dtype=float32>,\n",
       " <tf.Variable 'module/MobilenetV2/expanded_conv_6/project/weights:0' shape=(1, 1, 192, 64) dtype=float32>,\n",
       " <tf.Variable 'module/MobilenetV2/expanded_conv_6/project/BatchNorm/gamma:0' shape=(64,) dtype=float32>,\n",
       " <tf.Variable 'module/MobilenetV2/expanded_conv_6/project/BatchNorm/beta:0' shape=(64,) dtype=float32>,\n",
       " <tf.Variable 'module/MobilenetV2/expanded_conv_7/expand/weights:0' shape=(1, 1, 64, 384) dtype=float32>,\n",
       " <tf.Variable 'module/MobilenetV2/expanded_conv_7/expand/BatchNorm/gamma:0' shape=(384,) dtype=float32>,\n",
       " <tf.Variable 'module/MobilenetV2/expanded_conv_7/expand/BatchNorm/beta:0' shape=(384,) dtype=float32>,\n",
       " <tf.Variable 'module/MobilenetV2/expanded_conv_7/depthwise/depthwise_weights:0' shape=(3, 3, 384, 1) dtype=float32>,\n",
       " <tf.Variable 'module/MobilenetV2/expanded_conv_7/depthwise/BatchNorm/gamma:0' shape=(384,) dtype=float32>,\n",
       " <tf.Variable 'module/MobilenetV2/expanded_conv_7/depthwise/BatchNorm/beta:0' shape=(384,) dtype=float32>,\n",
       " <tf.Variable 'module/MobilenetV2/expanded_conv_7/project/weights:0' shape=(1, 1, 384, 64) dtype=float32>,\n",
       " <tf.Variable 'module/MobilenetV2/expanded_conv_7/project/BatchNorm/gamma:0' shape=(64,) dtype=float32>,\n",
       " <tf.Variable 'module/MobilenetV2/expanded_conv_7/project/BatchNorm/beta:0' shape=(64,) dtype=float32>,\n",
       " <tf.Variable 'module/MobilenetV2/expanded_conv_8/expand/weights:0' shape=(1, 1, 64, 384) dtype=float32>,\n",
       " <tf.Variable 'module/MobilenetV2/expanded_conv_8/expand/BatchNorm/gamma:0' shape=(384,) dtype=float32>,\n",
       " <tf.Variable 'module/MobilenetV2/expanded_conv_8/expand/BatchNorm/beta:0' shape=(384,) dtype=float32>,\n",
       " <tf.Variable 'module/MobilenetV2/expanded_conv_8/depthwise/depthwise_weights:0' shape=(3, 3, 384, 1) dtype=float32>,\n",
       " <tf.Variable 'module/MobilenetV2/expanded_conv_8/depthwise/BatchNorm/gamma:0' shape=(384,) dtype=float32>,\n",
       " <tf.Variable 'module/MobilenetV2/expanded_conv_8/depthwise/BatchNorm/beta:0' shape=(384,) dtype=float32>,\n",
       " <tf.Variable 'module/MobilenetV2/expanded_conv_8/project/weights:0' shape=(1, 1, 384, 64) dtype=float32>,\n",
       " <tf.Variable 'module/MobilenetV2/expanded_conv_8/project/BatchNorm/gamma:0' shape=(64,) dtype=float32>,\n",
       " <tf.Variable 'module/MobilenetV2/expanded_conv_8/project/BatchNorm/beta:0' shape=(64,) dtype=float32>,\n",
       " <tf.Variable 'module/MobilenetV2/expanded_conv_9/expand/weights:0' shape=(1, 1, 64, 384) dtype=float32>,\n",
       " <tf.Variable 'module/MobilenetV2/expanded_conv_9/expand/BatchNorm/gamma:0' shape=(384,) dtype=float32>,\n",
       " <tf.Variable 'module/MobilenetV2/expanded_conv_9/expand/BatchNorm/beta:0' shape=(384,) dtype=float32>,\n",
       " <tf.Variable 'module/MobilenetV2/expanded_conv_9/depthwise/depthwise_weights:0' shape=(3, 3, 384, 1) dtype=float32>,\n",
       " <tf.Variable 'module/MobilenetV2/expanded_conv_9/depthwise/BatchNorm/gamma:0' shape=(384,) dtype=float32>,\n",
       " <tf.Variable 'module/MobilenetV2/expanded_conv_9/depthwise/BatchNorm/beta:0' shape=(384,) dtype=float32>,\n",
       " <tf.Variable 'module/MobilenetV2/expanded_conv_9/project/weights:0' shape=(1, 1, 384, 64) dtype=float32>,\n",
       " <tf.Variable 'module/MobilenetV2/expanded_conv_9/project/BatchNorm/gamma:0' shape=(64,) dtype=float32>,\n",
       " <tf.Variable 'module/MobilenetV2/expanded_conv_9/project/BatchNorm/beta:0' shape=(64,) dtype=float32>,\n",
       " <tf.Variable 'module/MobilenetV2/expanded_conv_10/expand/weights:0' shape=(1, 1, 64, 384) dtype=float32>,\n",
       " <tf.Variable 'module/MobilenetV2/expanded_conv_10/expand/BatchNorm/gamma:0' shape=(384,) dtype=float32>,\n",
       " <tf.Variable 'module/MobilenetV2/expanded_conv_10/expand/BatchNorm/beta:0' shape=(384,) dtype=float32>,\n",
       " <tf.Variable 'module/MobilenetV2/expanded_conv_10/depthwise/depthwise_weights:0' shape=(3, 3, 384, 1) dtype=float32>,\n",
       " <tf.Variable 'module/MobilenetV2/expanded_conv_10/depthwise/BatchNorm/gamma:0' shape=(384,) dtype=float32>,\n",
       " <tf.Variable 'module/MobilenetV2/expanded_conv_10/depthwise/BatchNorm/beta:0' shape=(384,) dtype=float32>,\n",
       " <tf.Variable 'module/MobilenetV2/expanded_conv_10/project/weights:0' shape=(1, 1, 384, 96) dtype=float32>,\n",
       " <tf.Variable 'module/MobilenetV2/expanded_conv_10/project/BatchNorm/gamma:0' shape=(96,) dtype=float32>,\n",
       " <tf.Variable 'module/MobilenetV2/expanded_conv_10/project/BatchNorm/beta:0' shape=(96,) dtype=float32>,\n",
       " <tf.Variable 'module/MobilenetV2/expanded_conv_11/expand/weights:0' shape=(1, 1, 96, 576) dtype=float32>,\n",
       " <tf.Variable 'module/MobilenetV2/expanded_conv_11/expand/BatchNorm/gamma:0' shape=(576,) dtype=float32>,\n",
       " <tf.Variable 'module/MobilenetV2/expanded_conv_11/expand/BatchNorm/beta:0' shape=(576,) dtype=float32>,\n",
       " <tf.Variable 'module/MobilenetV2/expanded_conv_11/depthwise/depthwise_weights:0' shape=(3, 3, 576, 1) dtype=float32>,\n",
       " <tf.Variable 'module/MobilenetV2/expanded_conv_11/depthwise/BatchNorm/gamma:0' shape=(576,) dtype=float32>,\n",
       " <tf.Variable 'module/MobilenetV2/expanded_conv_11/depthwise/BatchNorm/beta:0' shape=(576,) dtype=float32>,\n",
       " <tf.Variable 'module/MobilenetV2/expanded_conv_11/project/weights:0' shape=(1, 1, 576, 96) dtype=float32>,\n",
       " <tf.Variable 'module/MobilenetV2/expanded_conv_11/project/BatchNorm/gamma:0' shape=(96,) dtype=float32>,\n",
       " <tf.Variable 'module/MobilenetV2/expanded_conv_11/project/BatchNorm/beta:0' shape=(96,) dtype=float32>,\n",
       " <tf.Variable 'module/MobilenetV2/expanded_conv_12/expand/weights:0' shape=(1, 1, 96, 576) dtype=float32>,\n",
       " <tf.Variable 'module/MobilenetV2/expanded_conv_12/expand/BatchNorm/gamma:0' shape=(576,) dtype=float32>,\n",
       " <tf.Variable 'module/MobilenetV2/expanded_conv_12/expand/BatchNorm/beta:0' shape=(576,) dtype=float32>,\n",
       " <tf.Variable 'module/MobilenetV2/expanded_conv_12/depthwise/depthwise_weights:0' shape=(3, 3, 576, 1) dtype=float32>,\n",
       " <tf.Variable 'module/MobilenetV2/expanded_conv_12/depthwise/BatchNorm/gamma:0' shape=(576,) dtype=float32>,\n",
       " <tf.Variable 'module/MobilenetV2/expanded_conv_12/depthwise/BatchNorm/beta:0' shape=(576,) dtype=float32>,\n",
       " <tf.Variable 'module/MobilenetV2/expanded_conv_12/project/weights:0' shape=(1, 1, 576, 96) dtype=float32>,\n",
       " <tf.Variable 'module/MobilenetV2/expanded_conv_12/project/BatchNorm/gamma:0' shape=(96,) dtype=float32>,\n",
       " <tf.Variable 'module/MobilenetV2/expanded_conv_12/project/BatchNorm/beta:0' shape=(96,) dtype=float32>,\n",
       " <tf.Variable 'module/MobilenetV2/expanded_conv_13/expand/weights:0' shape=(1, 1, 96, 576) dtype=float32>,\n",
       " <tf.Variable 'module/MobilenetV2/expanded_conv_13/expand/BatchNorm/gamma:0' shape=(576,) dtype=float32>,\n",
       " <tf.Variable 'module/MobilenetV2/expanded_conv_13/expand/BatchNorm/beta:0' shape=(576,) dtype=float32>,\n",
       " <tf.Variable 'module/MobilenetV2/expanded_conv_13/depthwise/depthwise_weights:0' shape=(3, 3, 576, 1) dtype=float32>,\n",
       " <tf.Variable 'module/MobilenetV2/expanded_conv_13/depthwise/BatchNorm/gamma:0' shape=(576,) dtype=float32>,\n",
       " <tf.Variable 'module/MobilenetV2/expanded_conv_13/depthwise/BatchNorm/beta:0' shape=(576,) dtype=float32>,\n",
       " <tf.Variable 'module/MobilenetV2/expanded_conv_13/project/weights:0' shape=(1, 1, 576, 160) dtype=float32>,\n",
       " <tf.Variable 'module/MobilenetV2/expanded_conv_13/project/BatchNorm/gamma:0' shape=(160,) dtype=float32>,\n",
       " <tf.Variable 'module/MobilenetV2/expanded_conv_13/project/BatchNorm/beta:0' shape=(160,) dtype=float32>,\n",
       " <tf.Variable 'module/MobilenetV2/expanded_conv_14/expand/weights:0' shape=(1, 1, 160, 960) dtype=float32>,\n",
       " <tf.Variable 'module/MobilenetV2/expanded_conv_14/expand/BatchNorm/gamma:0' shape=(960,) dtype=float32>,\n",
       " <tf.Variable 'module/MobilenetV2/expanded_conv_14/expand/BatchNorm/beta:0' shape=(960,) dtype=float32>,\n",
       " <tf.Variable 'module/MobilenetV2/expanded_conv_14/depthwise/depthwise_weights:0' shape=(3, 3, 960, 1) dtype=float32>,\n",
       " <tf.Variable 'module/MobilenetV2/expanded_conv_14/depthwise/BatchNorm/gamma:0' shape=(960,) dtype=float32>,\n",
       " <tf.Variable 'module/MobilenetV2/expanded_conv_14/depthwise/BatchNorm/beta:0' shape=(960,) dtype=float32>,\n",
       " <tf.Variable 'module/MobilenetV2/expanded_conv_14/project/weights:0' shape=(1, 1, 960, 160) dtype=float32>,\n",
       " <tf.Variable 'module/MobilenetV2/expanded_conv_14/project/BatchNorm/gamma:0' shape=(160,) dtype=float32>,\n",
       " <tf.Variable 'module/MobilenetV2/expanded_conv_14/project/BatchNorm/beta:0' shape=(160,) dtype=float32>,\n",
       " <tf.Variable 'module/MobilenetV2/expanded_conv_15/expand/weights:0' shape=(1, 1, 160, 960) dtype=float32>,\n",
       " <tf.Variable 'module/MobilenetV2/expanded_conv_15/expand/BatchNorm/gamma:0' shape=(960,) dtype=float32>,\n",
       " <tf.Variable 'module/MobilenetV2/expanded_conv_15/expand/BatchNorm/beta:0' shape=(960,) dtype=float32>,\n",
       " <tf.Variable 'module/MobilenetV2/expanded_conv_15/depthwise/depthwise_weights:0' shape=(3, 3, 960, 1) dtype=float32>,\n",
       " <tf.Variable 'module/MobilenetV2/expanded_conv_15/depthwise/BatchNorm/gamma:0' shape=(960,) dtype=float32>,\n",
       " <tf.Variable 'module/MobilenetV2/expanded_conv_15/depthwise/BatchNorm/beta:0' shape=(960,) dtype=float32>,\n",
       " <tf.Variable 'module/MobilenetV2/expanded_conv_15/project/weights:0' shape=(1, 1, 960, 160) dtype=float32>,\n",
       " <tf.Variable 'module/MobilenetV2/expanded_conv_15/project/BatchNorm/gamma:0' shape=(160,) dtype=float32>,\n",
       " <tf.Variable 'module/MobilenetV2/expanded_conv_15/project/BatchNorm/beta:0' shape=(160,) dtype=float32>,\n",
       " <tf.Variable 'module/MobilenetV2/expanded_conv_16/expand/weights:0' shape=(1, 1, 160, 960) dtype=float32>,\n",
       " <tf.Variable 'module/MobilenetV2/expanded_conv_16/expand/BatchNorm/gamma:0' shape=(960,) dtype=float32>,\n",
       " <tf.Variable 'module/MobilenetV2/expanded_conv_16/expand/BatchNorm/beta:0' shape=(960,) dtype=float32>,\n",
       " <tf.Variable 'module/MobilenetV2/expanded_conv_16/depthwise/depthwise_weights:0' shape=(3, 3, 960, 1) dtype=float32>,\n",
       " <tf.Variable 'module/MobilenetV2/expanded_conv_16/depthwise/BatchNorm/gamma:0' shape=(960,) dtype=float32>,\n",
       " <tf.Variable 'module/MobilenetV2/expanded_conv_16/depthwise/BatchNorm/beta:0' shape=(960,) dtype=float32>,\n",
       " <tf.Variable 'module/MobilenetV2/expanded_conv_16/project/weights:0' shape=(1, 1, 960, 320) dtype=float32>,\n",
       " <tf.Variable 'module/MobilenetV2/expanded_conv_16/project/BatchNorm/gamma:0' shape=(320,) dtype=float32>,\n",
       " <tf.Variable 'module/MobilenetV2/expanded_conv_16/project/BatchNorm/beta:0' shape=(320,) dtype=float32>,\n",
       " <tf.Variable 'module/MobilenetV2/Conv_1/weights:0' shape=(1, 1, 320, 1280) dtype=float32>,\n",
       " <tf.Variable 'module/MobilenetV2/Conv_1/BatchNorm/gamma:0' shape=(1280,) dtype=float32>,\n",
       " <tf.Variable 'module/MobilenetV2/Conv_1/BatchNorm/beta:0' shape=(1280,) dtype=float32>,\n",
       " <tf.Variable 'dense/kernel:0' shape=(1280, 820) dtype=float32_ref>,\n",
       " <tf.Variable 'dense/bias:0' shape=(820,) dtype=float32_ref>]"
      ]
     },
     "execution_count": 21,
     "metadata": {},
     "output_type": "execute_result"
    }
   ],
   "source": [
    "tf.trainable_variables()"
   ]
  },
  {
   "cell_type": "code",
   "execution_count": null,
   "metadata": {},
   "outputs": [],
   "source": []
  }
 ],
 "metadata": {
  "kernelspec": {
   "display_name": "Python 3",
   "language": "python",
   "name": "python3"
  },
  "language_info": {
   "codemirror_mode": {
    "name": "ipython",
    "version": 3
   },
   "file_extension": ".py",
   "mimetype": "text/x-python",
   "name": "python",
   "nbconvert_exporter": "python",
   "pygments_lexer": "ipython3",
   "version": "3.7.1"
  },
  "toc": {
   "base_numbering": 1,
   "nav_menu": {},
   "number_sections": true,
   "sideBar": true,
   "skip_h1_title": false,
   "title_cell": "Table of Contents",
   "title_sidebar": "Contents",
   "toc_cell": true,
   "toc_position": {},
   "toc_section_display": true,
   "toc_window_display": false
  }
 },
 "nbformat": 4,
 "nbformat_minor": 2
}
