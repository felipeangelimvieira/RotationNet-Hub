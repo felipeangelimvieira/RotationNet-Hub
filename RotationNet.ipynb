{
 "cells": [
  {
   "cell_type": "markdown",
   "metadata": {
    "toc": true
   },
   "source": [
    "<h1>Table of Contents<span class=\"tocSkip\"></span></h1>\n",
    "<div class=\"toc\"><ul class=\"toc-item\"></ul></div>"
   ]
  },
  {
   "cell_type": "code",
   "execution_count": 1,
   "metadata": {},
   "outputs": [
    {
     "name": "stderr",
     "output_type": "stream",
     "text": [
      "WARNING: Logging before flag parsing goes to stderr.\n",
      "W0402 19:04:50.051176 12556 __init__.py:56] Some hub symbols are not available because TensorFlow version is less than 1.14\n"
     ]
    }
   ],
   "source": [
    "from model import Model\n",
    "from dataloader import Dataloader\n",
    "from trainer import Trainer\n",
    "from logger import Logger\n",
    "import matplotlib.pyplot as plt\n",
    "import tensorflow as tf\n",
    "import numpy as np"
   ]
  },
  {
   "cell_type": "code",
   "execution_count": 2,
   "metadata": {},
   "outputs": [
    {
     "name": "stdout",
     "output_type": "stream",
     "text": [
      "['airplane' 'bathtub' 'bed' 'bench' 'bookshelf' 'bottle' 'bowl' 'car'\n",
      " 'chair' 'cone' 'cup' 'curtain' 'desk' 'door' 'dresser' 'flower_pot'\n",
      " 'glass_box' 'guitar' 'keyboard' 'lamp' 'laptop' 'mantel' 'monitor'\n",
      " 'night_stand' 'person' 'piano' 'plant' 'radio' 'range_hood' 'sink' 'sofa'\n",
      " 'stairs' 'stool' 'table' 'tent' 'toilet' 'tv_stand' 'vase' 'wardrobe'\n",
      " 'xbox']\n",
      "WARNING:tensorflow:From C:\\Users\\Felipe\\Anaconda3\\lib\\site-packages\\tensorflow\\python\\data\\ops\\iterator_ops.py:358: colocate_with (from tensorflow.python.framework.ops) is deprecated and will be removed in a future version.\n",
      "Instructions for updating:\n",
      "Colocations handled automatically by placer.\n"
     ]
    },
    {
     "name": "stderr",
     "output_type": "stream",
     "text": [
      "W0402 19:04:56.691209 12556 deprecation.py:323] From C:\\Users\\Felipe\\Anaconda3\\lib\\site-packages\\tensorflow\\python\\data\\ops\\iterator_ops.py:358: colocate_with (from tensorflow.python.framework.ops) is deprecated and will be removed in a future version.\n",
      "Instructions for updating:\n",
      "Colocations handled automatically by placer.\n"
     ]
    },
    {
     "name": "stdout",
     "output_type": "stream",
     "text": [
      "Latest checkpoint: None\n",
      "224 224 AAAA\n",
      "Tensor(\"IteratorGetNext:0\", shape=(?, ?, 224, 224, ?), dtype=float32)\n",
      "Tensor(\"IteratorGetNext:1\", shape=(?, ?), dtype=int64)\n",
      "INFO:tensorflow:Saver not created because there are no variables in the graph to restore\n"
     ]
    },
    {
     "name": "stderr",
     "output_type": "stream",
     "text": [
      "I0402 19:05:01.988065 12556 saver.py:1483] Saver not created because there are no variables in the graph to restore\n"
     ]
    },
    {
     "name": "stdout",
     "output_type": "stream",
     "text": [
      "WARNING:tensorflow:From c:\\Projetos\\rotationnet\\model.py:75: dense (from tensorflow.python.layers.core) is deprecated and will be removed in a future version.\n",
      "Instructions for updating:\n",
      "Use keras.layers.dense instead.\n"
     ]
    },
    {
     "name": "stderr",
     "output_type": "stream",
     "text": [
      "W0402 19:05:02.150638 12556 deprecation.py:323] From c:\\Projetos\\rotationnet\\model.py:75: dense (from tensorflow.python.layers.core) is deprecated and will be removed in a future version.\n",
      "Instructions for updating:\n",
      "Use keras.layers.dense instead.\n"
     ]
    },
    {
     "name": "stdout",
     "output_type": "stream",
     "text": [
      "WARNING:tensorflow:From C:\\Users\\Felipe\\Anaconda3\\lib\\site-packages\\tensorflow\\python\\ops\\math_ops.py:3066: to_int32 (from tensorflow.python.ops.math_ops) is deprecated and will be removed in a future version.\n",
      "Instructions for updating:\n",
      "Use tf.cast instead.\n"
     ]
    },
    {
     "name": "stderr",
     "output_type": "stream",
     "text": [
      "W0402 19:05:02.239365 12556 deprecation.py:323] From C:\\Users\\Felipe\\Anaconda3\\lib\\site-packages\\tensorflow\\python\\ops\\math_ops.py:3066: to_int32 (from tensorflow.python.ops.math_ops) is deprecated and will be removed in a future version.\n",
      "Instructions for updating:\n",
      "Use tf.cast instead.\n",
      "Loss = 2.5597093: 100%|███████████████████████████████████████████████████████████████████████████████████████████████████| 3281/3281 [06:36<00:00,  7.54it/s]\n"
     ]
    },
    {
     "name": "stdout",
     "output_type": "stream",
     "text": [
      "0.6866967204402158 0.5168997805583679 0.5455906500797966\n"
     ]
    },
    {
     "name": "stderr",
     "output_type": "stream",
     "text": [
      "100%|█████████████████████████████████████████████████████████████████████████████████████████████████████████████████████| 3281/3281 [06:13<00:00,  9.46it/s]\n",
      "C:\\Users\\Felipe\\Anaconda3\\lib\\site-packages\\sklearn\\metrics\\classification.py:1143: UndefinedMetricWarning: Precision and F-score are ill-defined and being set to 0.0 in labels with no predicted samples.\n",
      "  'precision', 'predicted', average, warn_for)\n"
     ]
    },
    {
     "name": "stdout",
     "output_type": "stream",
     "text": [
      "0.8148556700304784 0.7092979015382093 0.720152337628752\n",
      "Saving model...\n",
      "Model saved\n"
     ]
    },
    {
     "name": "stderr",
     "output_type": "stream",
     "text": [
      "Loss = 2.361601: 100%|████████████████████████████████████████████████████████████████████████████████████████████████████| 3281/3281 [07:15<00:00,  7.65it/s]\n"
     ]
    },
    {
     "name": "stdout",
     "output_type": "stream",
     "text": [
      "0.8051061467780158 0.7062505655772788 0.7340866951720176\n"
     ]
    },
    {
     "name": "stderr",
     "output_type": "stream",
     "text": [
      "100%|█████████████████████████████████████████████████████████████████████████████████████████████████████████████████████| 3281/3281 [06:16<00:00,  9.40it/s]\n"
     ]
    },
    {
     "name": "stdout",
     "output_type": "stream",
     "text": [
      "0.8644606607326345 0.7669241931500604 0.7803444933285085\n",
      "Saving model...\n",
      "WARNING:tensorflow:From C:\\Users\\Felipe\\Anaconda3\\lib\\site-packages\\tensorflow\\python\\training\\saver.py:966: remove_checkpoint (from tensorflow.python.training.checkpoint_management) is deprecated and will be removed in a future version.\n",
      "Instructions for updating:\n",
      "Use standard file APIs to delete files with this prefix.\n"
     ]
    },
    {
     "name": "stderr",
     "output_type": "stream",
     "text": [
      "W0402 19:31:43.231399 12556 deprecation.py:323] From C:\\Users\\Felipe\\Anaconda3\\lib\\site-packages\\tensorflow\\python\\training\\saver.py:966: remove_checkpoint (from tensorflow.python.training.checkpoint_management) is deprecated and will be removed in a future version.\n",
      "Instructions for updating:\n",
      "Use standard file APIs to delete files with this prefix.\n"
     ]
    },
    {
     "name": "stdout",
     "output_type": "stream",
     "text": [
      "Model saved\n"
     ]
    },
    {
     "name": "stderr",
     "output_type": "stream",
     "text": [
      "Loss = 2.3088129: 100%|███████████████████████████████████████████████████████████████████████████████████████████████████| 3281/3281 [06:36<00:00,  9.13it/s]\n"
     ]
    },
    {
     "name": "stdout",
     "output_type": "stream",
     "text": [
      "0.8432729591115182 0.7544288394395092 0.7818874232615203\n"
     ]
    },
    {
     "name": "stderr",
     "output_type": "stream",
     "text": [
      "100%|█████████████████████████████████████████████████████████████████████████████████████████████████████████████████████| 3281/3281 [05:50<00:00,  9.23it/s]\n"
     ]
    },
    {
     "name": "stdout",
     "output_type": "stream",
     "text": [
      "0.8698501819114665 0.7975972153597801 0.8093379317043755\n",
      "Saving model...\n",
      "Model saved\n"
     ]
    },
    {
     "name": "stderr",
     "output_type": "stream",
     "text": [
      "Loss = 2.2716117: 100%|███████████████████████████████████████████████████████████████████████████████████████████████████| 3281/3281 [12:09<00:00,  4.52it/s]\n"
     ]
    },
    {
     "name": "stdout",
     "output_type": "stream",
     "text": [
      "0.8164457138985526 0.7365069419943806 0.7622594738321438\n"
     ]
    },
    {
     "name": "stderr",
     "output_type": "stream",
     "text": [
      "100%|█████████████████████████████████████████████████████████████████████████████████████████████████████████████████████| 3281/3281 [05:46<00:00,  9.29it/s]\n"
     ]
    },
    {
     "name": "stdout",
     "output_type": "stream",
     "text": [
      "0.8490746986884925 0.797663668125651 0.7948760572920458\n",
      "Saving model...\n",
      "Model saved\n"
     ]
    },
    {
     "name": "stderr",
     "output_type": "stream",
     "text": [
      "Loss = 2.1185043: 100%|███████████████████████████████████████████████████████████████████████████████████████████████████| 3281/3281 [12:08<00:00,  4.50it/s]\n"
     ]
    },
    {
     "name": "stdout",
     "output_type": "stream",
     "text": [
      "0.8606476399269507 0.8081126298321507 0.825923695999539\n"
     ]
    },
    {
     "name": "stderr",
     "output_type": "stream",
     "text": [
      "100%|█████████████████████████████████████████████████████████████████████████████████████████████████████████████████████| 3281/3281 [05:53<00:00,  9.51it/s]\n"
     ]
    },
    {
     "name": "stdout",
     "output_type": "stream",
     "text": [
      "0.8626290658000653 0.830370233129288 0.8273597261767401\n",
      "Saving model...\n",
      "Model saved\n"
     ]
    },
    {
     "name": "stderr",
     "output_type": "stream",
     "text": [
      "Loss = 1.9954679: 100%|███████████████████████████████████████████████████████████████████████████████████████████████████| 3281/3281 [12:08<00:00,  4.50it/s]\n"
     ]
    },
    {
     "name": "stdout",
     "output_type": "stream",
     "text": [
      "0.8742922779785403 0.8313205660918467 0.8461676677172786\n"
     ]
    },
    {
     "name": "stderr",
     "output_type": "stream",
     "text": [
      "100%|█████████████████████████████████████████████████████████████████████████████████████████████████████████████████████| 3281/3281 [05:47<00:00,  9.47it/s]\n"
     ]
    },
    {
     "name": "stdout",
     "output_type": "stream",
     "text": [
      "0.8717213580996777 0.8399826277449659 0.8375629065348443\n",
      "Saving model...\n",
      "Model saved\n"
     ]
    },
    {
     "name": "stderr",
     "output_type": "stream",
     "text": [
      "Loss = 1.9313626: 100%|███████████████████████████████████████████████████████████████████████████████████████████████████| 3281/3281 [12:08<00:00,  4.50it/s]\n"
     ]
    },
    {
     "name": "stdout",
     "output_type": "stream",
     "text": [
      "0.8883913143043916 0.8484170343542488 0.861991898989543\n"
     ]
    },
    {
     "name": "stderr",
     "output_type": "stream",
     "text": [
      "100%|█████████████████████████████████████████████████████████████████████████████████████████████████████████████████████| 3281/3281 [06:03<00:00,  9.07it/s]\n"
     ]
    },
    {
     "name": "stdout",
     "output_type": "stream",
     "text": [
      "0.882925889097983 0.8520378908948988 0.8523942363012769\n",
      "Saving model...\n",
      "Model saved\n"
     ]
    },
    {
     "name": "stderr",
     "output_type": "stream",
     "text": [
      "Loss = 1.8683965: 100%|███████████████████████████████████████████████████████████████████████████████████████████████████| 3281/3281 [12:09<00:00,  4.50it/s]\n"
     ]
    },
    {
     "name": "stdout",
     "output_type": "stream",
     "text": [
      "0.8987806710886936 0.8628757990104383 0.8756471180528124\n"
     ]
    },
    {
     "name": "stderr",
     "output_type": "stream",
     "text": [
      "100%|█████████████████████████████████████████████████████████████████████████████████████████████████████████████████████| 3281/3281 [05:45<00:00,  9.54it/s]\n"
     ]
    },
    {
     "name": "stdout",
     "output_type": "stream",
     "text": [
      "0.8970655448206794 0.8718744778982629 0.8734289241948476\n",
      "Saving model...\n",
      "Model saved\n"
     ]
    },
    {
     "name": "stderr",
     "output_type": "stream",
     "text": [
      "Loss = 1.838376: 100%|████████████████████████████████████████████████████████████████████████████████████████████████████| 3281/3281 [12:07<00:00,  4.50it/s]\n"
     ]
    },
    {
     "name": "stdout",
     "output_type": "stream",
     "text": [
      "0.9082177885472085 0.8757606452515025 0.887191513369326\n"
     ]
    },
    {
     "name": "stderr",
     "output_type": "stream",
     "text": [
      "100%|█████████████████████████████████████████████████████████████████████████████████████████████████████████████████████| 3281/3281 [05:45<00:00,  9.42it/s]\n"
     ]
    },
    {
     "name": "stdout",
     "output_type": "stream",
     "text": [
      "0.8983370931838092 0.8780568920150653 0.8776916778379185\n",
      "Saving model...\n",
      "Model saved\n"
     ]
    },
    {
     "name": "stderr",
     "output_type": "stream",
     "text": [
      "Loss = 1.8108087: 100%|███████████████████████████████████████████████████████████████████████████████████████████████████| 3281/3281 [12:08<00:00,  4.51it/s]\n"
     ]
    },
    {
     "name": "stdout",
     "output_type": "stream",
     "text": [
      "0.912169980300131 0.881111002517741 0.8924627050771854\n"
     ]
    },
    {
     "name": "stderr",
     "output_type": "stream",
     "text": [
      "100%|█████████████████████████████████████████████████████████████████████████████████████████████████████████████████████| 3281/3281 [05:47<00:00,  9.26it/s]\n"
     ]
    },
    {
     "name": "stdout",
     "output_type": "stream",
     "text": [
      "0.9098367187103795 0.8842774945761601 0.8871446424507342\n",
      "Saving model...\n",
      "Model saved\n"
     ]
    },
    {
     "name": "stderr",
     "output_type": "stream",
     "text": [
      "Loss = 1.8010713: 100%|███████████████████████████████████████████████████████████████████████████████████████████████████| 3281/3281 [12:08<00:00,  4.51it/s]\n"
     ]
    },
    {
     "name": "stdout",
     "output_type": "stream",
     "text": [
      "0.9177990088804199 0.8897561992141988 0.9001112115216738\n"
     ]
    },
    {
     "name": "stderr",
     "output_type": "stream",
     "text": [
      "100%|█████████████████████████████████████████████████████████████████████████████████████████████████████████████████████| 3281/3281 [05:49<00:00,  9.52it/s]\n"
     ]
    },
    {
     "name": "stdout",
     "output_type": "stream",
     "text": [
      "0.9116079310983188 0.8912758242193025 0.8941070594406753\n",
      "Saving model...\n",
      "Model saved\n"
     ]
    },
    {
     "name": "stderr",
     "output_type": "stream",
     "text": [
      "Loss = 1.7843254: 100%|███████████████████████████████████████████████████████████████████████████████████████████████████| 3281/3281 [12:08<00:00,  4.50it/s]\n"
     ]
    },
    {
     "name": "stdout",
     "output_type": "stream",
     "text": [
      "0.9210253416269293 0.8958871063967561 0.9053899350396968\n"
     ]
    },
    {
     "name": "stderr",
     "output_type": "stream",
     "text": [
      "100%|█████████████████████████████████████████████████████████████████████████████████████████████████████████████████████| 3281/3281 [06:08<00:00,  8.63it/s]\n"
     ]
    },
    {
     "name": "stdout",
     "output_type": "stream",
     "text": [
      "0.9158316364642364 0.8937931111418201 0.898008166391097\n",
      "Saving model...\n",
      "Model saved\n"
     ]
    },
    {
     "name": "stderr",
     "output_type": "stream",
     "text": [
      "Loss = 1.7836398: 100%|███████████████████████████████████████████████████████████████████████████████████████████████████| 3281/3281 [12:11<00:00,  4.50it/s]\n"
     ]
    },
    {
     "name": "stdout",
     "output_type": "stream",
     "text": [
      "0.9251576838406985 0.9011731843230095 0.9102083372495635\n"
     ]
    },
    {
     "name": "stderr",
     "output_type": "stream",
     "text": [
      "100%|█████████████████████████████████████████████████████████████████████████████████████████████████████████████████████| 3281/3281 [06:08<00:00,  9.32it/s]\n"
     ]
    },
    {
     "name": "stdout",
     "output_type": "stream",
     "text": [
      "0.916563033984992 0.8945844353826548 0.8988247607696074\n",
      "Saving model...\n",
      "Model saved\n"
     ]
    },
    {
     "name": "stderr",
     "output_type": "stream",
     "text": [
      "Loss = 1.7808518: 100%|███████████████████████████████████████████████████████████████████████████████████████████████████| 3281/3281 [12:10<00:00,  4.48it/s]\n"
     ]
    },
    {
     "name": "stdout",
     "output_type": "stream",
     "text": [
      "0.9297298613124243 0.9059754673078064 0.9151631617885816\n"
     ]
    },
    {
     "name": "stderr",
     "output_type": "stream",
     "text": [
      "100%|█████████████████████████████████████████████████████████████████████████████████████████████████████████████████████| 3281/3281 [06:12<00:00,  9.07it/s]\n"
     ]
    },
    {
     "name": "stdout",
     "output_type": "stream",
     "text": [
      "0.9212856150503799 0.8963394542111331 0.9023576297298878\n",
      "Saving model...\n",
      "Model saved\n"
     ]
    },
    {
     "name": "stderr",
     "output_type": "stream",
     "text": [
      "Loss = 1.7711419: 100%|███████████████████████████████████████████████████████████████████████████████████████████████████| 3281/3281 [12:09<00:00,  4.52it/s]\n"
     ]
    },
    {
     "name": "stdout",
     "output_type": "stream",
     "text": [
      "0.9330054205306766 0.9101702239662007 0.9190087737954096\n"
     ]
    },
    {
     "name": "stderr",
     "output_type": "stream",
     "text": [
      "100%|█████████████████████████████████████████████████████████████████████████████████████████████████████████████████████| 3281/3281 [05:48<00:00,  8.87it/s]\n"
     ]
    },
    {
     "name": "stdout",
     "output_type": "stream",
     "text": [
      "0.9253592278431437 0.9032792337842667 0.909462387287736\n",
      "Saving model...\n",
      "Model saved\n"
     ]
    },
    {
     "name": "stderr",
     "output_type": "stream",
     "text": [
      "Loss = 1.7677993: 100%|███████████████████████████████████████████████████████████████████████████████████████████████████| 3281/3281 [12:09<00:00,  4.47it/s]\n"
     ]
    },
    {
     "name": "stdout",
     "output_type": "stream",
     "text": [
      "0.9358998986474474 0.9154268900915449 0.9234078468025988\n"
     ]
    },
    {
     "name": "stderr",
     "output_type": "stream",
     "text": [
      "100%|█████████████████████████████████████████████████████████████████████████████████████████████████████████████████████| 3281/3281 [05:48<00:00,  9.22it/s]\n"
     ]
    },
    {
     "name": "stdout",
     "output_type": "stream",
     "text": [
      "0.9254679271469353 0.9037028667334253 0.9098885633257435\n",
      "Saving model...\n",
      "Model saved\n"
     ]
    },
    {
     "name": "stderr",
     "output_type": "stream",
     "text": [
      "Loss = 1.7610773: 100%|███████████████████████████████████████████████████████████████████████████████████████████████████| 3281/3281 [12:09<00:00,  4.51it/s]\n"
     ]
    },
    {
     "name": "stdout",
     "output_type": "stream",
     "text": [
      "0.9389222974870517 0.9195289452954942 0.9271757548417658\n"
     ]
    },
    {
     "name": "stderr",
     "output_type": "stream",
     "text": [
      "100%|█████████████████████████████████████████████████████████████████████████████████████████████████████████████████████| 3281/3281 [05:48<00:00,  9.29it/s]\n"
     ]
    },
    {
     "name": "stdout",
     "output_type": "stream",
     "text": [
      "0.9267745254138042 0.906295047099559 0.9120839959114821\n",
      "Saving model...\n",
      "Model saved\n"
     ]
    },
    {
     "name": "stderr",
     "output_type": "stream",
     "text": [
      "Loss = 1.7567108: 100%|███████████████████████████████████████████████████████████████████████████████████████████████████| 3281/3281 [12:08<00:00,  4.49it/s]\n"
     ]
    },
    {
     "name": "stdout",
     "output_type": "stream",
     "text": [
      "0.9400533996732175 0.9226154894985623 0.9295970288004822\n"
     ]
    },
    {
     "name": "stderr",
     "output_type": "stream",
     "text": [
      "100%|█████████████████████████████████████████████████████████████████████████████████████████████████████████████████████| 3281/3281 [05:48<00:00,  9.35it/s]\n"
     ]
    },
    {
     "name": "stdout",
     "output_type": "stream",
     "text": [
      "0.9272303254474663 0.9049503478496685 0.9112179048376892\n",
      "Saving model...\n",
      "Model saved\n"
     ]
    },
    {
     "name": "stderr",
     "output_type": "stream",
     "text": [
      "Loss = 1.7506596: 100%|███████████████████████████████████████████████████████████████████████████████████████████████████| 3281/3281 [12:09<00:00,  4.50it/s]\n"
     ]
    },
    {
     "name": "stdout",
     "output_type": "stream",
     "text": [
      "0.9435690618822814 0.9252786942738627 0.9324712281135487\n"
     ]
    },
    {
     "name": "stderr",
     "output_type": "stream",
     "text": [
      "100%|█████████████████████████████████████████████████████████████████████████████████████████████████████████████████████| 3281/3281 [05:47<00:00,  9.43it/s]\n"
     ]
    },
    {
     "name": "stdout",
     "output_type": "stream",
     "text": [
      "0.9304863767954815 0.9112929092891546 0.9169787376594319\n",
      "Saving model...\n",
      "Model saved\n"
     ]
    },
    {
     "name": "stderr",
     "output_type": "stream",
     "text": [
      "Loss = 1.746087: 100%|████████████████████████████████████████████████████████████████████████████████████████████████████| 3281/3281 [12:08<00:00,  4.53it/s]\n"
     ]
    },
    {
     "name": "stdout",
     "output_type": "stream",
     "text": [
      "0.9461559522994645 0.928612429266332 0.9356129228376429\n"
     ]
    },
    {
     "name": "stderr",
     "output_type": "stream",
     "text": [
      "100%|█████████████████████████████████████████████████████████████████████████████████████████████████████████████████████| 3281/3281 [05:49<00:00,  9.35it/s]\n"
     ]
    },
    {
     "name": "stdout",
     "output_type": "stream",
     "text": [
      "0.930826874555901 0.9108202999139449 0.9168074726520719\n",
      "Saving model...\n",
      "Model saved\n"
     ]
    },
    {
     "name": "stderr",
     "output_type": "stream",
     "text": [
      "Loss = 1.7375835: 100%|███████████████████████████████████████████████████████████████████████████████████████████████████| 3281/3281 [12:08<00:00,  4.47it/s]\n"
     ]
    },
    {
     "name": "stdout",
     "output_type": "stream",
     "text": [
      "0.946543469298126 0.9298407568068681 0.9366099570474248\n"
     ]
    },
    {
     "name": "stderr",
     "output_type": "stream",
     "text": [
      "100%|█████████████████████████████████████████████████████████████████████████████████████████████████████████████████████| 3281/3281 [05:47<00:00,  9.43it/s]\n"
     ]
    },
    {
     "name": "stdout",
     "output_type": "stream",
     "text": [
      "0.9319797306736513 0.9130587226044471 0.9186719048137203\n",
      "Saving model...\n",
      "Model saved\n"
     ]
    },
    {
     "name": "stderr",
     "output_type": "stream",
     "text": [
      "Loss = 1.7536588: 100%|███████████████████████████████████████████████████████████████████████████████████████████████████| 3281/3281 [12:08<00:00,  4.50it/s]\n"
     ]
    },
    {
     "name": "stdout",
     "output_type": "stream",
     "text": [
      "0.9484023481292156 0.9314755985200321 0.9382409367065483\n"
     ]
    },
    {
     "name": "stderr",
     "output_type": "stream",
     "text": [
      "100%|█████████████████████████████████████████████████████████████████████████████████████████████████████████████████████| 3281/3281 [05:48<00:00,  9.58it/s]\n"
     ]
    },
    {
     "name": "stdout",
     "output_type": "stream",
     "text": [
      "0.9317852630975306 0.91162618433724 0.9178896371530183\n",
      "Saving model...\n",
      "Model saved\n"
     ]
    },
    {
     "name": "stderr",
     "output_type": "stream",
     "text": [
      "Loss = 1.7423469: 100%|███████████████████████████████████████████████████████████████████████████████████████████████████| 3281/3281 [12:08<00:00,  4.49it/s]\n"
     ]
    },
    {
     "name": "stdout",
     "output_type": "stream",
     "text": [
      "0.9498012300712503 0.9336036752068114 0.9400758462115636\n"
     ]
    },
    {
     "name": "stderr",
     "output_type": "stream",
     "text": [
      "100%|█████████████████████████████████████████████████████████████████████████████████████████████████████████████████████| 3281/3281 [05:48<00:00,  9.52it/s]\n"
     ]
    },
    {
     "name": "stdout",
     "output_type": "stream",
     "text": [
      "0.9350321601686638 0.914877437470072 0.9211399341906701\n",
      "Saving model...\n",
      "Model saved\n"
     ]
    },
    {
     "name": "stderr",
     "output_type": "stream",
     "text": [
      "Loss = 1.7411997: 100%|███████████████████████████████████████████████████████████████████████████████████████████████████| 3281/3281 [12:08<00:00,  4.50it/s]\n"
     ]
    },
    {
     "name": "stdout",
     "output_type": "stream",
     "text": [
      "0.9509532268021816 0.9356888245297977 0.9418064077385612\n"
     ]
    },
    {
     "name": "stderr",
     "output_type": "stream",
     "text": [
      "100%|█████████████████████████████████████████████████████████████████████████████████████████████████████████████████████| 3281/3281 [05:48<00:00,  9.44it/s]\n"
     ]
    },
    {
     "name": "stdout",
     "output_type": "stream",
     "text": [
      "0.9327250680629865 0.9138118649060448 0.919359972548395\n",
      "Saving model...\n",
      "Model saved\n"
     ]
    },
    {
     "name": "stderr",
     "output_type": "stream",
     "text": [
      "Loss = 1.742544: 100%|████████████████████████████████████████████████████████████████████████████████████████████████████| 3281/3281 [12:09<00:00,  4.51it/s]\n"
     ]
    },
    {
     "name": "stdout",
     "output_type": "stream",
     "text": [
      "0.9513114439724596 0.936713807317396 0.9426054230467162\n"
     ]
    },
    {
     "name": "stderr",
     "output_type": "stream",
     "text": [
      "100%|█████████████████████████████████████████████████████████████████████████████████████████████████████████████████████| 3281/3281 [05:47<00:00,  9.20it/s]\n"
     ]
    },
    {
     "name": "stdout",
     "output_type": "stream",
     "text": [
      "0.9356574184895695 0.9173112383396289 0.9225630873308104\n",
      "Saving model...\n",
      "Model saved\n"
     ]
    },
    {
     "name": "stderr",
     "output_type": "stream",
     "text": [
      "Loss = 1.7396367: 100%|███████████████████████████████████████████████████████████████████████████████████████████████████| 3281/3281 [12:09<00:00,  4.52it/s]\n"
     ]
    },
    {
     "name": "stdout",
     "output_type": "stream",
     "text": [
      "0.9540327386384433 0.9391250603776424 0.945225320941038\n"
     ]
    },
    {
     "name": "stderr",
     "output_type": "stream",
     "text": [
      "100%|█████████████████████████████████████████████████████████████████████████████████████████████████████████████████████| 3281/3281 [05:46<00:00,  9.33it/s]\n"
     ]
    },
    {
     "name": "stdout",
     "output_type": "stream",
     "text": [
      "0.9345787092781436 0.9171432507853645 0.9217507499057026\n",
      "Saving model...\n",
      "Model saved\n"
     ]
    },
    {
     "name": "stderr",
     "output_type": "stream",
     "text": [
      "Loss = 1.7352452: 100%|███████████████████████████████████████████████████████████████████████████████████████████████████| 3281/3281 [12:08<00:00,  4.50it/s]\n"
     ]
    },
    {
     "name": "stdout",
     "output_type": "stream",
     "text": [
      "0.9549523984573607 0.9402198628839145 0.9462604520942065\n"
     ]
    },
    {
     "name": "stderr",
     "output_type": "stream",
     "text": [
      "100%|█████████████████████████████████████████████████████████████████████████████████████████████████████████████████████| 3281/3281 [05:47<00:00,  9.13it/s]\n"
     ]
    },
    {
     "name": "stdout",
     "output_type": "stream",
     "text": [
      "0.9372120639446704 0.919602553110946 0.9243550920654522\n",
      "Saving model...\n",
      "Model saved\n"
     ]
    },
    {
     "name": "stderr",
     "output_type": "stream",
     "text": [
      "Loss = 1.7319385: 100%|███████████████████████████████████████████████████████████████████████████████████████████████████| 3281/3281 [12:08<00:00,  4.52it/s]\n"
     ]
    },
    {
     "name": "stdout",
     "output_type": "stream",
     "text": [
      "0.9569880782887967 0.9430617725770134 0.9489748534826014\n"
     ]
    },
    {
     "name": "stderr",
     "output_type": "stream",
     "text": [
      "100%|█████████████████████████████████████████████████████████████████████████████████████████████████████████████████████| 3281/3281 [05:48<00:00,  9.37it/s]\n"
     ]
    },
    {
     "name": "stdout",
     "output_type": "stream",
     "text": [
      "0.9390782000779785 0.920353179677362 0.9260996808882499\n",
      "Saving model...\n",
      "Model saved\n"
     ]
    },
    {
     "name": "stderr",
     "output_type": "stream",
     "text": [
      "Loss = 1.7298982: 100%|███████████████████████████████████████████████████████████████████████████████████████████████████| 3281/3281 [12:09<00:00,  4.52it/s]\n"
     ]
    },
    {
     "name": "stdout",
     "output_type": "stream",
     "text": [
      "0.9573186781469583 0.9433102433126177 0.9492388581394919\n"
     ]
    },
    {
     "name": "stderr",
     "output_type": "stream",
     "text": [
      "100%|█████████████████████████████████████████████████████████████████████████████████████████████████████████████████████| 3281/3281 [05:47<00:00,  9.45it/s]\n"
     ]
    },
    {
     "name": "stdout",
     "output_type": "stream",
     "text": [
      "0.9372008457594478 0.9208124820029433 0.9249832632883027\n",
      "Saving model...\n",
      "Model saved\n"
     ]
    },
    {
     "name": "stderr",
     "output_type": "stream",
     "text": [
      "Loss = 1.7300942: 100%|███████████████████████████████████████████████████████████████████████████████████████████████████| 3281/3281 [12:08<00:00,  4.52it/s]\n"
     ]
    },
    {
     "name": "stdout",
     "output_type": "stream",
     "text": [
      "0.9594823142405863 0.9467953463772112 0.9521947067419001\n"
     ]
    },
    {
     "name": "stderr",
     "output_type": "stream",
     "text": [
      "100%|█████████████████████████████████████████████████████████████████████████████████████████████████████████████████████| 3281/3281 [05:48<00:00,  9.36it/s]\n"
     ]
    },
    {
     "name": "stdout",
     "output_type": "stream",
     "text": [
      "0.9401749301241438 0.9239097001365906 0.9281565144554655\n",
      "Saving model...\n",
      "Model saved\n"
     ]
    }
   ],
   "source": [
    "config  = {\"module_path\": \"https://tfhub.dev/google/imagenet/mobilenet_v2_100_224/feature_vector/2\",\n",
    "           \"train_images_path\": \"modelnet40v2png_ori4/*/train/*\",\n",
    "           \"test_images_path\": \"modelnet40v2png_ori4/*/test/*\",\n",
    "           \"batch_size\": 3,\n",
    "           \"n_views\": 20,\n",
    "           \"warmup_epochs\": 3,\n",
    "           \"checkpoint_dir\": \"checkpoints/\",\n",
    "           \"summary_dir\": \"summary/\",\n",
    "           \"warmup_learning_rate\": 0.01,\n",
    "           \"max_to_keep\": 1,\n",
    "           \"epochs\": 30,\n",
    "           \"v_cands\": \"vcand_case2.npy\",\n",
    "           \"weight_decay\": 1e-4,\n",
    "           \"momentum\": 0.9,\n",
    "           \"decay_rate\": 0.9,\n",
    "           \"decay_steps\":  12000,\n",
    "           \"learning_rate\": 0.00005}\n",
    "\n",
    "config_proto = tf.ConfigProto()\n",
    "config_proto.gpu_options.allow_growth = True\n",
    "sess = tf.InteractiveSession(config=config_proto)\n",
    "dataloader = Dataloader(sess, config, prefetch_buffer_size = 10)\n",
    "model = Model(sess, dataloader, config)\n",
    "model.build_model()\n",
    "logger = Logger(sess, config)\n",
    "trainer = Trainer(sess,model,dataloader, logger, config)\n",
    "trainer.train()"
   ]
  },
  {
   "cell_type": "code",
   "execution_count": 7,
   "metadata": {},
   "outputs": [
    {
     "name": "stdout",
     "output_type": "stream",
     "text": [
      "tensor_name:  global_step/global_step\n",
      "0\n",
      "tensor_name:  global_step_1/global_step\n",
      "32810\n"
     ]
    }
   ],
   "source": [
    "from tensorflow.python.tools.inspect_checkpoint import print_tensors_in_checkpoint_file\n",
    "\n",
    "\n"
   ]
  },
  {
   "cell_type": "code",
   "execution_count": 9,
   "metadata": {},
   "outputs": [],
   "source": [
    "saver = tf.train.Saver(var_list = tf.global_variables(), max_to_keep = model.max_to_keep)"
   ]
  },
  {
   "cell_type": "code",
   "execution_count": 11,
   "metadata": {},
   "outputs": [
    {
     "data": {
      "text/plain": [
       "'checkpoints/-1568'"
      ]
     },
     "execution_count": 11,
     "metadata": {},
     "output_type": "execute_result"
    }
   ],
   "source": [
    "saver.save(sess, model.checkpoint_dir, model.global_step_tensor)"
   ]
  },
  {
   "cell_type": "code",
   "execution_count": 1,
   "metadata": {},
   "outputs": [
    {
     "ename": "NameError",
     "evalue": "name 'sess' is not defined",
     "output_type": "error",
     "traceback": [
      "\u001b[1;31m---------------------------------------------------------------------------\u001b[0m",
      "\u001b[1;31mNameError\u001b[0m                                 Traceback (most recent call last)",
      "\u001b[1;32m<ipython-input-1-3ae60305ef6c>\u001b[0m in \u001b[0;36m<module>\u001b[1;34m\u001b[0m\n\u001b[1;32m----> 1\u001b[1;33m \u001b[0msess\u001b[0m\u001b[1;33m.\u001b[0m\u001b[0mrun\u001b[0m\u001b[1;33m(\u001b[0m\u001b[0mdataloader\u001b[0m\u001b[1;33m.\u001b[0m\u001b[0mtraining_initializer\u001b[0m\u001b[1;33m)\u001b[0m\u001b[1;33m\u001b[0m\u001b[1;33m\u001b[0m\u001b[0m\n\u001b[0m",
      "\u001b[1;31mNameError\u001b[0m: name 'sess' is not defined"
     ]
    }
   ],
   "source": [
    "sess.run(dataloader.training_initializer)"
   ]
  },
  {
   "cell_type": "code",
   "execution_count": 4,
   "metadata": {},
   "outputs": [],
   "source": [
    "for i in range(1):\n",
    "    gather_score, gather_logp, _,input, hidden_layer, logits, probs, log_p, scores, loss, predictions, labels = sess.run([model.gather_candidate_scores, model.gather_candidate_log_prob, model.train_step,model.input,model.hidden_layer, model.logits,model.probs,model.log_p, model.scores, model.loss, model.predictions,model.labels], feed_dict = { dataloader.handle : dataloader.training_handle})"
   ]
  },
  {
   "cell_type": "code",
   "execution_count": 7,
   "metadata": {},
   "outputs": [
    {
     "name": "stdout",
     "output_type": "stream",
     "text": [
      "None\n"
     ]
    }
   ],
   "source": [
    "print(_)"
   ]
  },
  {
   "cell_type": "code",
   "execution_count": 7,
   "metadata": {},
   "outputs": [
    {
     "data": {
      "text/plain": [
       "array([[[ 0,  0,  8, 33],\n",
       "        [ 0,  1,  6, 33],\n",
       "        [ 0,  2, 17, 33],\n",
       "        [ 0,  3, 15, 33],\n",
       "        [ 0,  4, 12, 33],\n",
       "        [ 0,  5, 18, 33],\n",
       "        [ 0,  6,  1, 33],\n",
       "        [ 0,  7, 11, 33],\n",
       "        [ 0,  8,  0, 33],\n",
       "        [ 0,  9, 19, 33],\n",
       "        [ 0, 10, 16, 33],\n",
       "        [ 0, 11,  7, 33],\n",
       "        [ 0, 12,  4, 33],\n",
       "        [ 0, 13, 14, 33],\n",
       "        [ 0, 14, 13, 33],\n",
       "        [ 0, 15,  3, 33],\n",
       "        [ 0, 16, 10, 33],\n",
       "        [ 0, 17,  2, 33],\n",
       "        [ 0, 18,  5, 33],\n",
       "        [ 0, 19,  9, 33]],\n",
       "\n",
       "       [[ 1,  0,  6, 30],\n",
       "        [ 1,  1,  4, 30],\n",
       "        [ 1,  2,  2, 30],\n",
       "        [ 1,  3,  0, 30],\n",
       "        [ 1,  4,  7, 30],\n",
       "        [ 1,  5,  5, 30],\n",
       "        [ 1,  6,  3, 30],\n",
       "        [ 1,  7,  1, 30],\n",
       "        [ 1,  8, 19, 30],\n",
       "        [ 1,  9, 17, 30],\n",
       "        [ 1, 10, 18, 30],\n",
       "        [ 1, 11, 16, 30],\n",
       "        [ 1, 12, 10, 30],\n",
       "        [ 1, 13,  8, 30],\n",
       "        [ 1, 14, 11, 30],\n",
       "        [ 1, 15,  9, 30],\n",
       "        [ 1, 16, 14, 30],\n",
       "        [ 1, 17, 15, 30],\n",
       "        [ 1, 18, 12, 30],\n",
       "        [ 1, 19, 13, 30]],\n",
       "\n",
       "       [[ 2,  0,  7, 30],\n",
       "        [ 2,  1, 18, 30],\n",
       "        [ 2,  2,  9, 30],\n",
       "        [ 2,  3, 13, 30],\n",
       "        [ 2,  4, 14, 30],\n",
       "        [ 2,  5, 10, 30],\n",
       "        [ 2,  6, 17, 30],\n",
       "        [ 2,  7,  0, 30],\n",
       "        [ 2,  8, 15, 30],\n",
       "        [ 2,  9,  2, 30],\n",
       "        [ 2, 10,  5, 30],\n",
       "        [ 2, 11, 12, 30],\n",
       "        [ 2, 12, 11, 30],\n",
       "        [ 2, 13,  3, 30],\n",
       "        [ 2, 14,  4, 30],\n",
       "        [ 2, 15,  8, 30],\n",
       "        [ 2, 16, 19, 30],\n",
       "        [ 2, 17,  6, 30],\n",
       "        [ 2, 18,  1, 30],\n",
       "        [ 2, 19, 16, 30]]], dtype=int64)"
      ]
     },
     "execution_count": 7,
     "metadata": {},
     "output_type": "execute_result"
    }
   ],
   "source": [
    "gather_logp"
   ]
  },
  {
   "cell_type": "code",
   "execution_count": 9,
   "metadata": {},
   "outputs": [
    {
     "data": {
      "text/plain": [
       "array([[0.02672662, 0.00615867, 0.01582213, 0.01328075, 0.02935336,\n",
       "        0.02153872, 0.00388508, 0.00537047, 0.04029666, 0.00859651,\n",
       "        0.00439839, 0.00906369, 0.00932528, 0.00279904, 0.00963838,\n",
       "        0.01084939, 0.00509993, 0.00397475, 0.00619152, 0.00615931,\n",
       "        0.00482883, 0.01787483, 0.02351201, 0.01188569, 0.00422549,\n",
       "        0.01415132, 0.0077765 , 0.00406673, 0.00768902, 0.00516226,\n",
       "        0.02380944, 0.00615888, 0.00518979, 0.0231884 , 0.00367908,\n",
       "        0.01194616, 0.0134497 , 0.03901727, 0.00410328, 0.00379995],\n",
       "       [0.02535472, 0.00587602, 0.02203768, 0.01492389, 0.0310287 ,\n",
       "        0.02799947, 0.00311839, 0.00626341, 0.04019243, 0.00955583,\n",
       "        0.0057739 , 0.00986857, 0.01058371, 0.00298393, 0.01061384,\n",
       "        0.00968943, 0.00543096, 0.00633682, 0.00452588, 0.00599214,\n",
       "        0.00491153, 0.01733954, 0.02525161, 0.01075823, 0.00391307,\n",
       "        0.0108176 , 0.00864295, 0.00605456, 0.00750093, 0.00529501,\n",
       "        0.02580426, 0.0056995 , 0.00737997, 0.0234892 , 0.00439776,\n",
       "        0.0118994 , 0.01519571, 0.03696297, 0.00443361, 0.00546909],\n",
       "       [0.02683768, 0.00456208, 0.01814882, 0.01512023, 0.03183845,\n",
       "        0.02353401, 0.00210156, 0.00568597, 0.04494249, 0.0080651 ,\n",
       "        0.00331009, 0.01148808, 0.01113455, 0.00386463, 0.01001137,\n",
       "        0.01052659, 0.00571534, 0.00579577, 0.00531039, 0.0085144 ,\n",
       "        0.00534035, 0.01900547, 0.02566175, 0.01200058, 0.0041094 ,\n",
       "        0.01163536, 0.00987381, 0.00523111, 0.00695164, 0.00563908,\n",
       "        0.02686903, 0.00577578, 0.00783277, 0.02298675, 0.00574871,\n",
       "        0.01335332, 0.01597807, 0.03560966, 0.00224469, 0.00480297],\n",
       "       [0.02378123, 0.00484755, 0.02103178, 0.01013251, 0.02796689,\n",
       "        0.02119157, 0.00285405, 0.00622917, 0.04103228, 0.00936234,\n",
       "        0.00500517, 0.00946867, 0.00824566, 0.00382389, 0.00680869,\n",
       "        0.00881708, 0.00648225, 0.00468244, 0.00621642, 0.0085298 ,\n",
       "        0.00577692, 0.01747098, 0.02856614, 0.01034281, 0.0035334 ,\n",
       "        0.01284761, 0.00824057, 0.00656098, 0.00698157, 0.00458489,\n",
       "        0.02543763, 0.00550904, 0.00375061, 0.02397824, 0.00514106,\n",
       "        0.01340319, 0.01258443, 0.04377706, 0.00269872, 0.00501108],\n",
       "       [0.02430444, 0.00310616, 0.02359341, 0.01490613, 0.03013197,\n",
       "        0.02615444, 0.00198094, 0.00746044, 0.04506037, 0.00935259,\n",
       "        0.00542   , 0.00957401, 0.0089694 , 0.00277955, 0.01025191,\n",
       "        0.01270358, 0.00581727, 0.00528082, 0.00721188, 0.00673427,\n",
       "        0.00475553, 0.0160638 , 0.02404337, 0.01213508, 0.00358031,\n",
       "        0.01183061, 0.00975538, 0.00829134, 0.00634352, 0.00514419,\n",
       "        0.0257239 , 0.00655745, 0.00602781, 0.02521098, 0.00371041,\n",
       "        0.01481554, 0.01422718, 0.03840685, 0.00435914, 0.00669806],\n",
       "       [0.02386047, 0.00452794, 0.01998283, 0.01438561, 0.02624088,\n",
       "        0.0232813 , 0.00194754, 0.00605119, 0.04322819, 0.00882805,\n",
       "        0.00456235, 0.01024594, 0.00971835, 0.00404205, 0.01003109,\n",
       "        0.0110911 , 0.00410078, 0.00629826, 0.00688774, 0.00790716,\n",
       "        0.00450161, 0.01896456, 0.02884723, 0.01103425, 0.00384961,\n",
       "        0.01353106, 0.00878498, 0.00631419, 0.00509978, 0.00262318,\n",
       "        0.02263011, 0.00564595, 0.00654935, 0.02647551, 0.00431343,\n",
       "        0.01275439, 0.01367191, 0.0354466 , 0.00420572, 0.0058098 ],\n",
       "       [0.02214732, 0.00558798, 0.01890153, 0.01470406, 0.03149413,\n",
       "        0.02447127, 0.00411153, 0.00752901, 0.04834199, 0.00745684,\n",
       "        0.00450857, 0.01066573, 0.00880991, 0.00221744, 0.00894451,\n",
       "        0.01060768, 0.0058729 , 0.00375522, 0.00544833, 0.0092417 ,\n",
       "        0.00356809, 0.01767444, 0.02322925, 0.00883893, 0.00438305,\n",
       "        0.01086133, 0.00877921, 0.00708102, 0.00709546, 0.00433364,\n",
       "        0.02569423, 0.0062868 , 0.00686369, 0.03064668, 0.003686  ,\n",
       "        0.01182687, 0.01413108, 0.04114439, 0.0037874 , 0.00551958],\n",
       "       [0.0256909 , 0.00499901, 0.02441936, 0.01292302, 0.03291682,\n",
       "        0.02517959, 0.00376907, 0.00606763, 0.04610442, 0.00830172,\n",
       "        0.00649809, 0.00966491, 0.00979261, 0.00388841, 0.01071124,\n",
       "        0.01199617, 0.00481056, 0.00558818, 0.0056365 , 0.00652281,\n",
       "        0.00461241, 0.01919176, 0.0315222 , 0.01170732, 0.00341053,\n",
       "        0.01188894, 0.00746439, 0.00444788, 0.00679366, 0.00590984,\n",
       "        0.02572308, 0.00613532, 0.00648028, 0.02821902, 0.00492107,\n",
       "        0.01145227, 0.01620288, 0.03503525, 0.00340512, 0.00461443],\n",
       "       [0.0239862 , 0.00639911, 0.02309131, 0.01481739, 0.03025413,\n",
       "        0.02855709, 0.00376564, 0.00726748, 0.04847908, 0.00834055,\n",
       "        0.00678785, 0.01044947, 0.01051816, 0.00317297, 0.01162351,\n",
       "        0.01210038, 0.00621886, 0.00461413, 0.00701084, 0.00808943,\n",
       "        0.00504218, 0.02021389, 0.0248858 , 0.01037934, 0.00427919,\n",
       "        0.01352221, 0.0053803 , 0.00695655, 0.00609887, 0.00690202,\n",
       "        0.0261628 , 0.00316542, 0.00760013, 0.02433501, 0.00480336,\n",
       "        0.01270241, 0.01586688, 0.03495983, 0.00434393, 0.00535186],\n",
       "       [0.02843864, 0.00435375, 0.02137452, 0.01383335, 0.03714776,\n",
       "        0.02414493, 0.00268195, 0.00806248, 0.0443042 , 0.00717533,\n",
       "        0.00496716, 0.01058108, 0.00955237, 0.00480642, 0.01126937,\n",
       "        0.01144127, 0.00641047, 0.00508139, 0.00625095, 0.00786037,\n",
       "        0.00401447, 0.01759917, 0.02685554, 0.01103794, 0.0036313 ,\n",
       "        0.01380312, 0.00967855, 0.006502  , 0.00756264, 0.00660826,\n",
       "        0.02565209, 0.00630888, 0.00724939, 0.02397107, 0.00536635,\n",
       "        0.0124199 , 0.0137944 , 0.03658265, 0.00383904, 0.00573135],\n",
       "       [0.02512318, 0.00397693, 0.02166899, 0.01382945, 0.03116186,\n",
       "        0.02302834, 0.00396999, 0.00576565, 0.04196192, 0.00723931,\n",
       "        0.00488482, 0.00957659, 0.00825118, 0.00391025, 0.00862078,\n",
       "        0.0112574 , 0.00463306, 0.00507733, 0.00530285, 0.00733379,\n",
       "        0.00409706, 0.01723862, 0.02594469, 0.00984446, 0.00481679,\n",
       "        0.01223485, 0.00897744, 0.0062015 , 0.00646562, 0.00479735,\n",
       "        0.02113955, 0.00489532, 0.00801851, 0.0213959 , 0.00413029,\n",
       "        0.0097378 , 0.01197534, 0.03808267, 0.00393828, 0.00437791],\n",
       "       [0.0227757 , 0.00417061, 0.01839949, 0.01576642, 0.0312855 ,\n",
       "        0.02354289, 0.00318076, 0.00707226, 0.04569061, 0.00828378,\n",
       "        0.00449228, 0.00863931, 0.00866006, 0.00403355, 0.01042677,\n",
       "        0.01245422, 0.00674297, 0.00428783, 0.00535247, 0.00710746,\n",
       "        0.00575144, 0.01740709, 0.02737707, 0.00993688, 0.00529044,\n",
       "        0.01106365, 0.00906054, 0.00741853, 0.00692872, 0.00522882,\n",
       "        0.0206761 , 0.00447367, 0.00493713, 0.02534043, 0.0041    ,\n",
       "        0.01092623, 0.01342371, 0.03919552, 0.00475546, 0.00620246],\n",
       "       [0.02400361, 0.00384436, 0.02129807, 0.0128543 , 0.03212588,\n",
       "        0.02496126, 0.00282741, 0.00839815, 0.03803399, 0.01093602,\n",
       "        0.00600539, 0.00955738, 0.00960194, 0.00414161, 0.00977918,\n",
       "        0.00893148, 0.00505235, 0.00622293, 0.00650491, 0.00717096,\n",
       "        0.00491011, 0.016254  , 0.02905837, 0.01254388, 0.00408006,\n",
       "        0.01332882, 0.0109043 , 0.0067085 , 0.00384253, 0.00392291,\n",
       "        0.023484  , 0.00658364, 0.00665071, 0.02659559, 0.00445654,\n",
       "        0.01326299, 0.01403429, 0.03545415, 0.00368325, 0.00597616],\n",
       "       [0.02081407, 0.00498178, 0.01831495, 0.0136075 , 0.02823874,\n",
       "        0.02511704, 0.00392332, 0.00609332, 0.03569309, 0.00680824,\n",
       "        0.00542736, 0.01090734, 0.00778758, 0.00395482, 0.00936947,\n",
       "        0.00813366, 0.00573702, 0.00557448, 0.00540969, 0.00528002,\n",
       "        0.00514567, 0.01678077, 0.02523475, 0.01019895, 0.00367034,\n",
       "        0.01246207, 0.00721634, 0.00513449, 0.00800991, 0.0041571 ,\n",
       "        0.0232839 , 0.00528208, 0.00461371, 0.02491998, 0.0046196 ,\n",
       "        0.01254148, 0.01213842, 0.0364275 , 0.00353499, 0.00368578],\n",
       "       [0.02595462, 0.00289996, 0.01885264, 0.01279647, 0.02975898,\n",
       "        0.02536437, 0.00226972, 0.00711387, 0.04095057, 0.00831226,\n",
       "        0.00533091, 0.01033157, 0.01032852, 0.0013105 , 0.00917398,\n",
       "        0.00868704, 0.00483104, 0.00460285, 0.00457837, 0.0076701 ,\n",
       "        0.00514606, 0.01830844, 0.02570837, 0.00998783, 0.00392173,\n",
       "        0.01222598, 0.00802166, 0.00562461, 0.00559181, 0.00632588,\n",
       "        0.02684916, 0.00433145, 0.00654267, 0.02169233, 0.00654079,\n",
       "        0.00969151, 0.01182187, 0.0346812 , 0.00317165, 0.00523002],\n",
       "       [0.023807  , 0.00283535, 0.02233303, 0.0137414 , 0.02898986,\n",
       "        0.02410599, 0.00297129, 0.00535292, 0.04352473, 0.00642524,\n",
       "        0.00435439, 0.00984409, 0.00788848, 0.00363354, 0.01048729,\n",
       "        0.01001281, 0.00663225, 0.00495081, 0.00600601, 0.00857446,\n",
       "        0.00586369, 0.01930344, 0.02453136, 0.00976579, 0.00382789,\n",
       "        0.01124115, 0.0084428 , 0.00575838, 0.00588277, 0.00252879,\n",
       "        0.02089162, 0.00462819, 0.00768428, 0.02238699, 0.00441526,\n",
       "        0.00965493, 0.01577301, 0.03438094, 0.00387147, 0.00405167],\n",
       "       [0.02313004, 0.00563556, 0.01789273, 0.01292679, 0.03187169,\n",
       "        0.02304303, 0.00427369, 0.00598564, 0.04224781, 0.00674648,\n",
       "        0.00218437, 0.00913301, 0.00939528, 0.00335201, 0.00976698,\n",
       "        0.00700664, 0.00560493, 0.00559614, 0.00556561, 0.00808779,\n",
       "        0.00546032, 0.01497133, 0.02657714, 0.00953341, 0.00306058,\n",
       "        0.01158566, 0.0104605 , 0.00611277, 0.0088291 , 0.00476082,\n",
       "        0.02486221, 0.0038773 , 0.00713018, 0.02569759, 0.00478727,\n",
       "        0.01272401, 0.0128279 , 0.03124768, 0.00385439, 0.00480255],\n",
       "       [0.02304654, 0.00459039, 0.01889041, 0.01535985, 0.03520815,\n",
       "        0.02511883, 0.00325126, 0.00617084, 0.04132635, 0.00991532,\n",
       "        0.00459396, 0.00961571, 0.00913463, 0.00373097, 0.01018335,\n",
       "        0.01022032, 0.00499096, 0.00515123, 0.00656694, 0.00755974,\n",
       "        0.00399183, 0.01549437, 0.02974959, 0.00996994, 0.00508581,\n",
       "        0.01002967, 0.01041511, 0.00506245, 0.00676966, 0.00631548,\n",
       "        0.02024837, 0.00594873, 0.00704196, 0.02505889, 0.00374487,\n",
       "        0.01317071, 0.01234184, 0.03918626, 0.00215213, 0.00292969],\n",
       "       [0.02366878, 0.00494692, 0.01755534, 0.01568979, 0.03274824,\n",
       "        0.0221709 , 0.0018127 , 0.00573127, 0.04342758, 0.00703883,\n",
       "        0.00530985, 0.00996335, 0.00924737, 0.00319226, 0.00904542,\n",
       "        0.01127234, 0.00489059, 0.00513045, 0.00613559, 0.00592615,\n",
       "        0.00567178, 0.01719156, 0.02463289, 0.00799745, 0.0039555 ,\n",
       "        0.01192288, 0.00919874, 0.00618764, 0.00559483, 0.00424979,\n",
       "        0.0223723 , 0.00603278, 0.00654162, 0.02347719, 0.00454589,\n",
       "        0.01236328, 0.01745913, 0.03446593, 0.00418108, 0.00592283],\n",
       "       [0.02577535, 0.00599623, 0.02349973, 0.01377577, 0.03279967,\n",
       "        0.02923534, 0.00406305, 0.0081267 , 0.0478615 , 0.01055202,\n",
       "        0.00360128, 0.01024023, 0.00929166, 0.00512096, 0.01043438,\n",
       "        0.00764311, 0.0067969 , 0.00562855, 0.00606395, 0.00778874,\n",
       "        0.00461332, 0.02084803, 0.02818329, 0.0116619 , 0.00362281,\n",
       "        0.01451653, 0.01033132, 0.00634183, 0.00663934, 0.00514077,\n",
       "        0.02720824, 0.00671515, 0.00935093, 0.02417958, 0.00558471,\n",
       "        0.01227449, 0.01577938, 0.04019865, 0.00456861, 0.00434592]],\n",
       "      dtype=float32)"
      ]
     },
     "execution_count": 9,
     "metadata": {},
     "output_type": "execute_result"
    }
   ],
   "source": [
    "probs[0,0,...,:-1]"
   ]
  },
  {
   "cell_type": "code",
   "execution_count": null,
   "metadata": {},
   "outputs": [],
   "source": []
  }
 ],
 "metadata": {
  "kernelspec": {
   "display_name": "Python 3",
   "language": "python",
   "name": "python3"
  },
  "language_info": {
   "codemirror_mode": {
    "name": "ipython",
    "version": 3
   },
   "file_extension": ".py",
   "mimetype": "text/x-python",
   "name": "python",
   "nbconvert_exporter": "python",
   "pygments_lexer": "ipython3",
   "version": "3.7.1"
  },
  "toc": {
   "base_numbering": 1,
   "nav_menu": {},
   "number_sections": true,
   "sideBar": true,
   "skip_h1_title": false,
   "title_cell": "Table of Contents",
   "title_sidebar": "Contents",
   "toc_cell": true,
   "toc_position": {},
   "toc_section_display": true,
   "toc_window_display": false
  }
 },
 "nbformat": 4,
 "nbformat_minor": 2
}
